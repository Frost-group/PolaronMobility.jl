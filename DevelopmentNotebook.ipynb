{
 "cells": [
  {
   "cell_type": "code",
   "execution_count": 1,
   "metadata": {
    "collapsed": false
   },
   "outputs": [],
   "source": [
    "# Hellwarth 1999 PRB - Part IV; T-dep of the Feynman variation parameter\n",
    "# A Friday afternoon of hacking to try and implement the T-dep electron-phonon coupling from the above PRB\n",
    "# Which was unusually successful! And more or less reproduced Table III"
   ]
  },
  {
   "cell_type": "code",
   "execution_count": 2,
   "metadata": {
    "collapsed": false
   },
   "outputs": [
    {
     "name": "stdout",
     "output_type": "stream",
     "text": [
      "Julia Version 0.5.0\n",
      "Commit 3c9d753 (2016-09-19 18:14 UTC)\n",
      "Platform Info:\n",
      "  System: Darwin (x86_64-apple-darwin13.4.0)\n",
      "  CPU: Intel(R) Core(TM) i7-6700K CPU @ 4.00GHz\n",
      "  WORD_SIZE: 64\n",
      "  BLAS: libopenblas (USE64BITINT DYNAMIC_ARCH NO_AFFINITY Haswell)\n",
      "  LAPACK: libopenblas64_\n",
      "  LIBM: libopenlibm\n",
      "  LLVM: libLLVM-3.7.1 (ORCJIT, broadwell)\n"
     ]
    }
   ],
   "source": [
    "# Just in case anyone is following this from the far future; we are using:\n",
    "versioninfo()"
   ]
  },
  {
   "cell_type": "code",
   "execution_count": 3,
   "metadata": {
    "collapsed": false
   },
   "outputs": [
    {
     "data": {
      "text/plain": [
       "F (generic function with 1 method)"
      ]
     },
     "execution_count": 3,
     "metadata": {},
     "output_type": "execute_result"
    }
   ],
   "source": [
    "# one-dimensional numerical integration in Julia using adaptive Gauss-Kronrod quadrature\n",
    "using QuadGK\n",
    "\n",
    "# Equation numbers follow above Hellwarth 1999 PRB\n",
    "# 62b\n",
    "A(v,w,β)=3/β*( log(v/w) - 1/2*log(2*π*β) - log(sinh(v*β/2)/sinh(w*β/2)))\n",
    "\n",
    "# 62d\n",
    "Y(x,v,β)=1/(1-exp(-v*β))*(1+exp(-v*β)-exp(-v*x)-exp(v*(x-β)))\n",
    "# 62c integrand\n",
    "f(x,v,w,β)=(exp(β-x)+exp(x))/(w^2*x*(1-x/β)+Y(x,v,β)*(v^2-w^2)/v)^(1/2)\n",
    "# 62c\n",
    "B(v,w,β,α) = α*v/(sqrt(π)*(exp(β)-1)) * quadgk(x->f(x,v,w,β),0,β/2)[1]\n",
    "#62e\n",
    "C(v,w,β)=3/4*(v^2-w^2)/v * (coth(v*β/2)-2/(v*β))\n",
    "\n",
    "F(v,w,β,α)=-(A(v,w,β)+B(v,w,β,α)+C(v,w,β)) #(62a)\n",
    "\n",
    "# Can now evaluate, e.g.\n",
    "# F(v,w,β,α)=F(7.2,6.5,1.0,1.0)\n",
    "# BUT - this is just the objective function! Not the optimised parameters.\n",
    "# Also there's a scary numeric integration (quadgk) buried within..."
   ]
  },
  {
   "cell_type": "code",
   "execution_count": 4,
   "metadata": {
    "collapsed": false
   },
   "outputs": [
    {
     "name": "stdout",
     "output_type": "stream",
     "text": [
      "\t\tα=1\t\tα=2\t\tα=3\t\tα=4\t\tα=5\t\t\n",
      "β: 1.0  \t||0.948149\t-0.860517\t-2.669184\t-4.477850\t-6.286517\t\n",
      "β: 1.25  \t||0.837826\t-0.797573\t-2.432973\t-4.068372\t-5.703771\t\n",
      "β: 1.5  \t||0.731167\t-0.781009\t-2.293184\t-3.805360\t-5.317535\t\n",
      "β: 1.75  \t||0.634483\t-0.786028\t-2.206538\t-3.627049\t-5.047560\t\n",
      "β: 2.0  \t||0.548050\t-0.802169\t-2.152387\t-3.502605\t-4.852824\t\n",
      "β: 2.25  \t||0.470735\t-0.824402\t-2.119538\t-3.414675\t-4.709811\t\n",
      "β: 2.5  \t||0.401226\t-0.850049\t-2.101324\t-3.352599\t-4.603874\t\n",
      "β: 2.75  \t||0.338349\t-0.877564\t-2.093476\t-3.309388\t-4.525300\t\n",
      "β: 3.0  \t||0.281128\t-0.905989\t-2.093106\t-3.280223\t-4.467340\t\n"
     ]
    }
   ],
   "source": [
    "# Print out F(alpha,beta) for a specific v,w; as a test\n",
    "@printf(\"\\t\\t\")\n",
    "for α in 1:5\n",
    "    @printf(\"α=%d\\t\\t\",α)\n",
    "end\n",
    "@printf(\"\\n\")\n",
    "\n",
    "for β in 1:0.25:3.0\n",
    "    v=w=4\n",
    "    print(\"β: $β  \\t||\")\n",
    "    for α in 1:5\n",
    "        @printf(\"%f\\t\",F(v,w,β,α))\n",
    "    end\n",
    "    println()\n",
    "end"
   ]
  },
  {
   "cell_type": "code",
   "execution_count": 5,
   "metadata": {
    "collapsed": false
   },
   "outputs": [
    {
     "name": "stdout",
     "output_type": "stream",
     "text": [
      "6.000000 0.991013\n",
      "6.100000 0.980559\n",
      "6.200000 0.971051\n",
      "6.300000 0.962484\n",
      "6.400000 0.954852\n",
      "6.500000 0.948149\n",
      "6.600000 0.942368\n",
      "6.700000 0.937501\n",
      "6.800000 0.933540\n",
      "6.900000 0.930475\n",
      "7.000000 0.928297\n",
      "7.100000 0.926997\n",
      "7.200000 0.926565\n",
      "7.300000 0.926990\n",
      "7.400000 0.928261\n",
      "7.500000 0.930368\n",
      "7.600000 0.933300\n",
      "7.700000 0.937045\n",
      "7.800000 0.941592\n",
      "7.900000 0.946930\n",
      "8.000000 0.953047\n",
      "\n",
      "6.000000 0.936794\n",
      "6.100000 0.933154\n",
      "6.200000 0.930295\n",
      "6.300000 0.928232\n",
      "6.400000 0.926983\n",
      "6.500000 0.926565\n",
      "6.600000 0.926993\n",
      "6.700000 0.928281\n",
      "6.800000 0.930446\n",
      "6.900000 0.933502\n",
      "7.000000 0.937462\n"
     ]
    }
   ],
   "source": [
    "# OK - very primitive!\n",
    "# But these are 1D traces along the solution for Alpha=Beta=1 in Helwarth PRB TABLE III,\n",
    "# this was used to correct a transcription error in the above typed-in equations\n",
    "# It was also good to see what F(v,w) looked like as a function of v and w near an optimal solution\n",
    "\n",
    "v=7.20\n",
    "w=6.5\n",
    "α=1.0\n",
    "β=1.0\n",
    "\n",
    "for v=6:0.1:8\n",
    "    @printf(\"%f %f\\n\",v,F(v,w,β,α))\n",
    "end\n",
    "\n",
    "@printf(\"\\n\")\n",
    "v=7.20\n",
    "for w=6:0.1:7\n",
    "    @printf(\"%f %f\\n\",w,F(v,w,β,α))\n",
    "end"
   ]
  },
  {
   "cell_type": "code",
   "execution_count": 6,
   "metadata": {
    "collapsed": false
   },
   "outputs": [],
   "source": [
    "# Angle for the ringside seats, when the fall, don't blame me, Bring on the Major Leagues\n",
    "using Optim\n",
    "# Julia package stuffed full of magic, does auto-differentation & etc. etc."
   ]
  },
  {
   "cell_type": "code",
   "execution_count": null,
   "metadata": {
    "collapsed": true
   },
   "outputs": [],
   "source": []
  },
  {
   "cell_type": "code",
   "execution_count": 7,
   "metadata": {
    "collapsed": false
   },
   "outputs": [
    {
     "data": {
      "text/plain": [
       "0.9265650282717047"
      ]
     },
     "execution_count": 7,
     "metadata": {},
     "output_type": "execute_result"
    }
   ],
   "source": [
    "Fopt(x) = F(x[1],x[2],1,1)\n",
    "\n",
    "Fopt([7.2,6.5])\n",
    "# OK! It looks like I can bury the alpha, beta parameters (which we don't optimise), by wrapping our function in a function definition."
   ]
  },
  {
   "cell_type": "code",
   "execution_count": 8,
   "metadata": {
    "collapsed": false
   },
   "outputs": [
    {
     "data": {
      "text/plain": [
       "Results of Optimization Algorithm\n",
       " * Algorithm: L-BFGS\n",
       " * Starting Point: [7.2,6.5]\n",
       " * Minimizer: [7.2001204422454705,6.499877874759114]\n",
       " * Minimum: 9.265650e-01\n",
       " * Iterations: 5\n",
       " * Convergence: false\n",
       "   * |x - x'| < 1.0e-32: false\n",
       "   * |f(x) - f(x')| / |f(x)| < 1.0e-32: false\n",
       "   * |g(x)| < 1.0e-08: false\n",
       "   * f(x) > f(x'): true\n",
       "   * Reached Maximum Number of Iterations: false\n",
       " * Objective Function Calls: 20\n",
       " * Gradient Calls: 20"
      ]
     },
     "execution_count": 8,
     "metadata": {},
     "output_type": "execute_result"
    }
   ],
   "source": [
    "initial=[7.2,6.5]\n",
    "\n",
    "optimize(Fopt,  initial, LBFGS())"
   ]
  },
  {
   "cell_type": "code",
   "execution_count": 9,
   "metadata": {
    "collapsed": false
   },
   "outputs": [
    {
     "data": {
      "text/plain": [
       "Results of Optimization Algorithm\n",
       " * Algorithm: BFGS\n",
       " * Starting Point: [7.2,6.5]\n",
       " * Minimizer: [7.202559224930345,6.502370805840276]\n",
       " * Minimum: 9.265650e-01\n",
       " * Iterations: 3\n",
       " * Convergence: true\n",
       "   * |x - x'| < 1.0e-32: false\n",
       "   * |f(x) - f(x')| / |f(x)| < 1.0e-32: false\n",
       "   * |g(x)| < 1.0e-08: true\n",
       "   * f(x) > f(x'): true\n",
       "   * Reached Maximum Number of Iterations: false\n",
       " * Objective Function Calls: 20\n",
       " * Gradient Calls: 20"
      ]
     },
     "execution_count": 9,
     "metadata": {},
     "output_type": "execute_result"
    }
   ],
   "source": [
    "optimize(Fopt, initial, BFGS(), Optim.Options(autodiff=true))"
   ]
  },
  {
   "cell_type": "code",
   "execution_count": 10,
   "metadata": {
    "collapsed": false
   },
   "outputs": [
    {
     "data": {
      "text/plain": [
       "Results of Optimization Algorithm\n",
       " * Algorithm: BFGS\n",
       " * Starting Point: [7.2,6.5]\n",
       " * Minimizer: [7.202559224930345,6.502370805840276]\n",
       " * Minimum: 9.265650e-01\n",
       " * Iterations: 3\n",
       " * Convergence: true\n",
       "   * |x - x'| < 1.0e-32: false\n",
       "   * |f(x) - f(x')| / |f(x)| < 1.0e-32: false\n",
       "   * |g(x)| < 1.0e-08: true\n",
       "   * f(x) > f(x'): true\n",
       "   * Reached Maximum Number of Iterations: false\n",
       " * Objective Function Calls: 20\n",
       " * Gradient Calls: 20"
      ]
     },
     "execution_count": 10,
     "metadata": {},
     "output_type": "execute_result"
    }
   ],
   "source": [
    "optimize(Fopt, initial, BFGS(), Optim.Options(autodiff=true))"
   ]
  },
  {
   "cell_type": "code",
   "execution_count": 11,
   "metadata": {
    "collapsed": false
   },
   "outputs": [
    {
     "name": "stdout",
     "output_type": "stream",
     "text": [
      "\t\tα=1\t\tα=2\t\tα=3\t\tα=4\t\tα=5\t\t\n",
      "β: 1.0  \t||7.20 6.50\t7.69 6.20\t8.26 5.87\t8.95 5.51\t9.78 5.13\t\n",
      "β: 1.25  \t||5.94 5.31\t6.38 5.03\t6.91 4.73\t7.57 4.41\t8.39 4.05\t\n",
      "β: 1.5  \t||5.11 4.54\t5.52 4.29\t6.02 4.00\t6.66 3.70\t7.48 3.37\t\n",
      "β: 1.75  \t||4.54 4.01\t4.91 3.76\t5.40 3.51\t6.02 3.22\t6.83 2.92\t\n",
      "β: 2.0  \t||4.12 3.63\t4.48 3.40\t4.94 3.16\t"
     ]
    },
    {
     "ename": "LoadError",
     "evalue": "DomainError:",
     "output_type": "error",
     "traceback": [
      "DomainError:",
      "",
      " in nan_dom_err at ./math.jl:196 [inlined]",
      " in log(::Float64) at ./math.jl:202",
      " in A(::Float64, ::Float64, ::Float64) at ./In[3]:6",
      " in F(::Float64, ::Float64, ::Float64, ::Int64) at ./In[3]:17",
      " in (::#myf#3)(::Array{Float64,1}) at ./In[11]:12",
      " in alphatry(::Float64, ::Optim.OnceDifferentiable, ::Array{Float64,1}, ::Array{Float64,1}, ::Array{Float64,1}, ::Array{Float64,1}, ::LineSearches.LineSearchResults{Float64}, ::Float64, ::Float64, ::Float64, ::Int64, ::Float64, ::Bool) at /Users/jarvist/.julia/v0.5/LineSearches/src/api.jl:26",
      " in alphaguess!(::Optim.ConjugateGradientState{Float64,1,Array{Float64,1}}, ::Optim.ConjugateGradient{Void,Optim.##29#31,LineSearches.#hagerzhang!}, ::Float64, ::Optim.OnceDifferentiable) at /Users/jarvist/.julia/v0.5/Optim/src/utilities/perform_linesearch.jl:57",
      " in perform_linesearch!(::Optim.ConjugateGradientState{Float64,1,Array{Float64,1}}, ::Optim.ConjugateGradient{Void,Optim.##29#31,LineSearches.#hagerzhang!}, ::Optim.OnceDifferentiable) at /Users/jarvist/.julia/v0.5/Optim/src/utilities/perform_linesearch.jl:70",
      " in update_state!(::Optim.OnceDifferentiable, ::Optim.ConjugateGradientState{Float64,1,Array{Float64,1}}, ::Optim.ConjugateGradient{Void,Optim.##29#31,LineSearches.#hagerzhang!}) at /Users/jarvist/.julia/v0.5/Optim/src/cg.jl:144",
      " in optimize(::Optim.OnceDifferentiable, ::Array{Float64,1}, ::Optim.ConjugateGradient{Void,Optim.##29#31,LineSearches.#hagerzhang!}, ::Optim.Options{Void}) at /Users/jarvist/.julia/v0.5/Optim/src/optimize.jl:196",
      " in optimize(::#myf#3, ::Array{Float64,1}, ::Optim.ConjugateGradient{Void,Optim.##29#31,LineSearches.#hagerzhang!}, ::Optim.Options{Void}) at /Users/jarvist/.julia/v0.5/Optim/src/optimize.jl:116",
      " in macro expansion; at ./In[11]:13 [inlined]",
      " in anonymous at ./<missing>:?"
     ]
    }
   ],
   "source": [
    "# Right! The above looks like this might actually just work...\n",
    "\n",
    "@printf(\"\\t\\t\")\n",
    "for α in 1:5\n",
    "    @printf(\"α=%d\\t\\t\",α)\n",
    "end\n",
    "@printf(\"\\n\")\n",
    "\n",
    "for β in 1:0.25:3.0\n",
    "    print(\"β: $β  \\t||\")\n",
    "    for α in 1:5\n",
    "        myf(x) = F(x[1],x[2],β,α)\n",
    "        solution=Optim.minimizer(optimize(myf, initial,ConjugateGradient(), Optim.Options(autodiff=true)))\n",
    "        \n",
    "        #print(solution,\"\\t\")\n",
    "        @printf(\"%.2f %.2f\\t\",solution[1],solution[2])\n",
    "    end\n",
    "    println()\n",
    "end"
   ]
  },
  {
   "cell_type": "code",
   "execution_count": 53,
   "metadata": {
    "collapsed": false
   },
   "outputs": [
    {
     "name": "stdout",
     "output_type": "stream",
     "text": [
      "\t\tα=1\t\tα=2\t\tα=3\t\tα=4\t\tα=5\t\t\n",
      "β: 1.0  \t||7.20 6.50\t7.68 6.19\t8.05 5.66\t8.94 5.50\t9.78 5.12\t\n",
      "β: 1.25  \t||5.87 5.25\t6.33 4.99\t6.92 4.74\t7.56 4.40\t8.39 4.05\t\n",
      "β: 1.5  \t||5.08 4.50\t5.52 4.28\t6.01 4.00\t6.61 3.66\t7.48 3.37\t\n",
      "β: 1.75  \t||4.58 4.05\t4.91 3.76\t5.39 3.50\t6.02 3.23\t6.84 2.92\t\n",
      "β: 2.0  \t||4.14 3.65\t4.49 3.42\t4.94 3.16\t5.54 2.89\t6.36 2.60\t\n",
      "β: 2.25  \t||3.81 3.35\t4.14 3.13\t4.59 2.89\t5.18 2.64\t6.00 2.37\t\n",
      "β: 2.5  \t||3.59 3.15\t3.90 2.94\t4.31 2.70\t4.90 2.46\t5.71 2.20\t\n",
      "β: 2.75  \t||3"
     ]
    },
    {
     "name": "stderr",
     "output_type": "stream",
     "text": [
      "\u001b[1m\u001b[31mWARNING: Linesearch failed, using alpha = 0.14412411949331552 and exiting optimization.\u001b[0m\n"
     ]
    },
    {
     "name": "stdout",
     "output_type": "stream",
     "text": [
      ".41 2.99\t3.70 2.77\t4.11 2.56\t4.67 2.32\t5.48 2.07\t\n",
      "β: 3.0  \t||3.25 2.85\t3.54 2.65\t3.93 2.44\t4.49 2.22\t5.29 1.97\t\n"
     ]
    }
   ],
   "source": [
    "# After a bit of fiddling, I figured out how to add bounds, to stop that 'DomainError', \n",
    "# which occurs where the you are evaluating log(-ve Real), i.e. w<0.0 or v<0.0\n",
    "\n",
    "initial=[7.2,6.5]\n",
    "\n",
    "lower=[0.0,0.0]\n",
    "upper=[10.0,10.0]\n",
    "\n",
    "@printf(\"\\t\\t\")\n",
    "for α in 1:5\n",
    "    @printf(\"α=%d\\t\\t\",α)\n",
    "end\n",
    "@printf(\"\\n\")\n",
    "\n",
    "for β in 1:0.25:3.0\n",
    "    print(\"β: $β  \\t||\")\n",
    "    for α in 1:5\n",
    "        myf(x) = F(x[1],x[2],β,α)\n",
    "        solution=optimize(DifferentiableFunction(myf), initial, lower, upper, Fminbox(); optimizer = ConjugateGradient, optimizer_o=Optim.Options(autodiff=true))\n",
    "        minimum=Optim.minimizer(solution)\n",
    "        \n",
    "        v=minimum[1]\n",
    "        w=minimum[2]\n",
    "        #print(solution,\"\\t\")\n",
    "        @printf(\"%.2f %.2f\\t\",v,w)\n",
    "        \n",
    "        \n",
    "    end\n",
    "    println()\n",
    "end"
   ]
  },
  {
   "cell_type": "code",
   "execution_count": 12,
   "metadata": {
    "collapsed": false
   },
   "outputs": [
    {
     "name": "stdout",
     "output_type": "stream",
     "text": [
      "\n",
      "\t\t##### NOW TRIALING: Optim.BFGS{L<:Function,H<:Function} #####\n",
      "\n",
      "\t\tα=1\t\tα=2\t\tα=3\t\tα=4\t\tα=5\t\t\n",
      "β: 1.0  \t||"
     ]
    },
    {
     "name": "stderr",
     "output_type": "stream",
     "text": [
      "\u001b[1m\u001b[31mWARNING: DifferentiableFunction(args...) is deprecated, use OnceDifferentiable(args...) instead.\u001b[0m\n",
      " in depwarn(::String, ::Symbol) at ./deprecated.jl:64\n",
      " in DifferentiableFunction(::Function, ::Vararg{Function,N}) at ./deprecated.jl:50\n",
      " in macro expansion; at ./In[12]:24 [inlined]\n",
      " in anonymous at ./<missing>:?\n",
      " in include_string(::String, ::String) at ./loading.jl:441\n",
      " in execute_request(::ZMQ.Socket, ::IJulia.Msg) at /Users/jarvist/.julia/v0.5/IJulia/src/execute_request.jl:157\n",
      " in eventloop(::ZMQ.Socket) at /Users/jarvist/.julia/v0.5/IJulia/src/eventloop.jl:8\n",
      " in (::IJulia.##13#19)() at ./task.jl:360\n",
      "while loading In[12], in expression starting on line 11\n",
      "WARNING: could not attach metadata for @simd loop.\n"
     ]
    },
    {
     "name": "stdout",
     "output_type": "stream",
     "text": [
      "7.15 6.45\t7.68 6.19\t8.26 5.87\t8.94 5.51\t9.78 5.13\t\n",
      "β: 1.25  \t||5.94 5.31\t6.35 5.01\t6.91 4.73\t7.57 4.41\t8.39 4.05\t\n",
      "β: 1.5  \t||5.11 4.53\t5.54 4.31\t6.01 4.00\t6.67 3.71\t7.48 3.38\t\n",
      "β: 1.75  \t||4.55 4.02\t4.94 3.80\t5.39 3.51\t6.02 3.23\t6.83 2.92\t\n",
      "β: 2.0  \t||4.15 3.66\t4.48 3.41\t4.93 3.15\t5.55 2.89\t6.38 2.62\t\n",
      "β: 2.25  \t||3.80 3.34\t4.16 3.14\t4.59 2.90\t5.18 2.64\t5.99 2.37\t\n",
      "β: 2.5  \t||3.58 3.14\t3.89 2.92\t4.32 2.70\t4.90 2.45\t5.71 2.20\t\n",
      "β: 2.75  \t||3.38 2.97\t3.70 2.78\t4.11 2.56\t4.67 2.32\t5.48 2.07\t\n",
      "β: 3.0  \t||3.27 2.87\t3.54 2.65\t3.93 2.43\t4.48 2.21\t5.29 1.97\t\n",
      "\n",
      "\t\t##### NOW TRIALING: Optim.LBFGS{T,L<:Function,Tprep<:Union{Function,Void}} #####\n",
      "\n",
      "\t\tα=1\t\tα=2\t\tα=3\t\tα=4\t\tα=5\t\t\n",
      "β: 1.0  \t||7.15 6.45\t7.70 6.21\t8.26 5.86\t8.95 5.51\t9.79 5.13\t\n",
      "β: 1.25  \t||5.94 5.31\t6.36 5.01\t6.90 4.72\t7.57 4.41\t8.39 4.05\t\n",
      "β: 1.5  \t||5.13 4.56\t5.53 4.30\t6.03 4.02\t6.67 3.72\t7.48 3.38\t\n",
      "β: 1.75  \t||4.53 4.01\t4.93 3.79\t5.40 3.51\t6.02 3.23\t6.83 2.92\t\n",
      "β: 2.0  \t||4.17 3.67\t"
     ]
    },
    {
     "name": "stderr",
     "output_type": "stream",
     "text": [
      "\u001b[1m\u001b[31mWARNING: Linesearch failed, using alpha = 2.686099948427937e-11 and exiting optimization.\u001b[0m\n"
     ]
    },
    {
     "name": "stdout",
     "output_type": "stream",
     "text": [
      "4.49 3.41\t4.94 3.16\t5.54 2.88\t6.36 2.60\t\n",
      "β: 2.25  \t||3.81 3.35\t4.15 3.14\t4.59 2.90\t5.18 2.64\t6.00 2.37\t\n",
      "β: 2.5  \t||3.58 3.14\t3.89 2.93\t4.32 2.70\t4.90 2.46\t5.71 2.20\t\n",
      "β: 2.75  \t||3.38 2.96\t3.70 2.78\t4.10 2.55\t4.67 2.32\t5.48 2.07\t\n",
      "β: 3.0  \t||3.25 2.85\t3.54 2.65\t3.92 2.43\t4.49 2.21\t5.29 1.97\t\n",
      "\n",
      "\t\t##### NOW TRIALING: Optim.ConjugateGradient{T,Tprep<:Union{Function,Void},L<:Function} #####\n",
      "\n",
      "\t\tα=1\t\tα=2\t\tα=3\t\tα=4\t\tα=5\t\t\n",
      "β: 1.0  \t||7.15 6.45\t7.67 6.18\t8.19 5.80\t8.95 5.51\t9.78 5.12\t\n",
      "β: 1.25  \t||5.91 5.28\t6.35 5.01\t6.89 4.72\t7.56 4.40\t8.39 4.05\t\n",
      "β: 1.5  \t||5.11 4.54\t5.53 4.30\t6.04 4.02\t6.66 3.70\t7.48 3.37\t\n",
      "β: 1.75  \t||4.53 4.00\t4.93 3.78\t5.40 3.51\t6.02 3.22\t6.83 2.92\t\n",
      "β: 2.0  \t||4.17 3.67\t4.47 3.39\t4.93 3.15\t5.54 2.88\t6.36 2.60\t\n",
      "β: 2.25  \t||3.82 3.35\t4.15 3.13\t4.59 2.90\t5.18 2.64\t6.00 2.37\t\n",
      "β: 2.5  \t||3.57 3.13\t3.91 2.94\t4.32 2.70\t4.90 2.45\t5.71 2.20\t\n",
      "β: 2.75  \t||3.38 2.96\t3.69 2.77\t4.10 2.55\t4.67 2.32\t5.48 2.07\t\n",
      "β: 3.0  \t||3.27 2.87\t3.53 2.65\t3.92 2.43\t4.49 2.21\t5.29 1.97\t\n"
     ]
    }
   ],
   "source": [
    "# So that looks really good! I was super stoked to see how close these values are to TABLE III in Hellwarth\n",
    "# However, the solutions all start on (7.20,6.50) so that top-left data point is cheating, whereas the \n",
    "# others have some disagreement / noise associated with them\n",
    "# I was wondering whether it might be a function of the optimiser, so thought I'd try them all\n",
    "\n",
    "initial=[7.1,6.5]\n",
    "# Main use of these bounds is stopping v or w going negative, at which you get a NaN error as you are evaluating log(-ve Real)\n",
    "lower=[1.0,1.0]\n",
    "upper=[10.0,10.0]\n",
    "\n",
    "for optimizer in [BFGS, LBFGS, ConjugateGradient] # Newton, GradientDescent, NelderMead - steps outside box & log(-ve)->NaN error\n",
    "    @printf(\"\\n\\t\\t##### NOW TRIALING: %s #####\\n\\n\",optimizer)\n",
    "\n",
    "    @printf(\"\\t\\t\")\n",
    "    for α in 1:5\n",
    "        @printf(\"α=%d\\t\\t\",α)\n",
    "    end\n",
    "    @printf(\"\\n\")\n",
    "\n",
    "    for β in 1:0.25:3.0\n",
    "        print(\"β: $β  \\t||\")\n",
    "        for α in 1:5\n",
    "            myf(x) = F(x[1],x[2],β,α)\n",
    "            res=optimize(DifferentiableFunction(myf), initial, lower, upper, Fminbox(); optimizer = optimizer, optimizer_o=Optim.Options(autodiff=true))\n",
    "            minimum=Optim.minimizer(res)\n",
    "            #show(Optim.converged(res)) # All came out as 'true'\n",
    "                \n",
    "            #print(solution,\"\\t\")\n",
    "            @printf(\"%.2f %.2f\\t\",minimum[1],minimum[2])\n",
    "        end\n",
    "        println()\n",
    "    end\n",
    "end"
   ]
  },
  {
   "cell_type": "code",
   "execution_count": 13,
   "metadata": {
    "collapsed": true
   },
   "outputs": [],
   "source": [
    "# So why the (slight) disagreement? I don't really know.\n",
    "# It may well be that Julia has a much better control of errors, \n",
    "# certainly the Optim package (optimisation) defaults seem to be at the Machine-precision end of the world, \n",
    "# and a lot of intermediates will be Float64 or larger.\n",
    "\n",
    "# The objective function seems quite flat in the vicinity of the optimum, so this would also explain some of the variance."
   ]
  },
  {
   "cell_type": "code",
   "execution_count": 14,
   "metadata": {
    "collapsed": false
   },
   "outputs": [
    {
     "name": "stdout",
     "output_type": "stream",
     "text": [
      "Reduced mass: 0.17100885128857163\n",
      "Feynman Polaron Radius: 1.3542783798281395\n"
     ]
    }
   ],
   "source": [
    "# OK, now Ref 9; Schultz PR Volume 116, Number 3, Nov 1959\n",
    "const MassElectron = 9.10938188e-31;                          # kg\n",
    "v=7.15 \n",
    "w=6.51\n",
    "\n",
    "m=1.0 #MassElectron\n",
    "# Eqn (2.4)\n",
    "μ=m*(v^2-w^2)/v^2\n",
    "println(\"Reduced mass: $μ\")\n",
    "rf=(3/2*μ*v)^(1/2)\n",
    "println(\"Feynman Polaron Radius: $rf\")\n",
    "\n",
    "# Units?!? Bohr?"
   ]
  },
  {
   "cell_type": "code",
   "execution_count": 52,
   "metadata": {
    "collapsed": false
   },
   "outputs": [
    {
     "name": "stdout",
     "output_type": "stream",
     "text": [
      "α=2.395940\n",
      "T: 10.000000 β: 7.2e+21 βred: 11\t v= 3.07 w= 2.34\t M=0.717178 k=3.925527\t\n",
      " Polaron Es: A= -1.600060 B= 2.665654 C= 0.902304 F= -1.967899\n",
      "\tμ(FHIP)= 66.070065 m^2/Vs \t= 660700.65 cm^2/Vs\n",
      "\tμ(Kadanoff)= 475.628885 m^2/Vs \t= 4756288.85 cm^2/Vs\n",
      "\tμ(Hellwarth1999)= "
     ]
    },
    {
     "name": "stderr",
     "output_type": "stream",
     "text": [
      "WARNING: Method definition k(Any, Any, Any, Any) in module Main at In[52]:91 overwritten at In[52]:104.\n"
     ]
    },
    {
     "name": "stdout",
     "output_type": "stream",
     "text": [
      "65.805034 m^2/Vs \t= 658050.34 cm^2/Vs\n",
      "\tμ(Hellwarth1999,b=0)= 65.805034 m^2/Vs \t= 658050.34 cm^2/Vs\n",
      "\n",
      "T: 20.000000 β: 3.6e+21 βred: 5.4\t v= 3.05 w= 2.19\t M=0.936635 k=4.507233\t\n",
      " Polaron Es: A= -2.084111 B= 2.802278 C= 0.972966 F= -1.691132\n",
      "\tμ(FHIP)= 0.536442 m^2/Vs \t= 5364.42 cm^2/Vs\n",
      "\tμ(Kadanoff)= 1.930883 m^2/Vs \t= 19308.83 cm^2/Vs\n",
      "\tμ(Hellwarth1999)= 0.549768 m^2/Vs \t= 5497.68 cm^2/Vs\n",
      "\tμ(Hellwarth1999,b=0)= 0.549774 m^2/Vs \t= 5497.74 cm^2/Vs\n",
      "\n",
      "T: 30.000000 β: 2.4e+21 βred: 3.6\t v= 3.40 w= 2.38\t M=1.038341 k=5.897853\t\n",
      " Polaron Es: A= -2.532044 B= 2.991060 C= 1.087716 F= -1.546732\n",
      "\tμ(FHIP)= 0.123011 m^2/Vs \t= 1230.11 cm^2/Vs\n",
      "\tμ(Kadanoff)= 0.295180 m^2/Vs \t= 2951.80 cm^2/Vs\n",
      "\tμ(Hellwarth1999)= 0.125538 m^2/Vs \t= 1255.38 cm^2/Vs\n",
      "\tμ(Hellwarth1999,b=0)= 0.125556 m^2/Vs \t= 1255.56 cm^2/Vs\n",
      "\n",
      "T: 40.000000 β: 1.8e+21 βred: 2.7\t v= 3.88 w= 2.71\t M=1.043141 k=7.670766\t\n",
      " Polaron Es: A= -2.923283 B= 3.206224 C= 1.200633 F= -1.483573\n",
      "\tμ(FHIP)= 0.064106 m^2/Vs \t= 641.06 cm^2/Vs\n",
      "\tμ(Kadanoff)= 0.115372 m^2/Vs \t= 1153.72 cm^2/Vs\n",
      "\tμ(Hellwarth1999)= 0.062468 m^2/Vs \t= 624.68 cm^2/Vs\n",
      "\tμ(Hellwarth1999,b=0)= 0.062493 m^2/Vs \t= 624.93 cm^2/Vs\n",
      "\n",
      "T: 50.000000 β: 1.4e+21 βred: 2.2\t v= 4.43 w= 3.14\t M=0.993887 k=9.778537\t\n",
      " Polaron Es: A= -3.272166 B= 3.428589 C= 1.309852 F= -1.466276\n",
      "\tμ(FHIP)= 0.046323 m^2/Vs \t= 463.23 cm^2/Vs\n",
      "\tμ(Kadanoff)= 0.066695 m^2/Vs \t= 666.95 cm^2/Vs\n",
      "\tμ(Hellwarth1999)= 0.041834 m^2/Vs \t= 418.34 cm^2/Vs\n",
      "\tμ(Hellwarth1999,b=0)= 0.041860 m^2/Vs \t= 418.60 cm^2/Vs\n",
      "\n",
      "T: 60.000000 β: 1.2e+21 βred: 1.8\t v= 5.01 w= 3.60\t M=0.932777 k=12.104642\t\n",
      " Polaron Es: A= -3.583400 B= 3.648868 C= 1.410942 F= -1.476410\n",
      "\tμ(FHIP)= 0.039117 m^2/Vs \t= 391.17 cm^2/Vs\n",
      "\tμ(Kadanoff)= 0.046934 m^2/Vs \t= 469.34 cm^2/Vs\n",
      "\tμ(Hellwarth1999)= 0.032315 m^2/Vs \t= 323.15 cm^2/Vs\n",
      "\tμ(Hellwarth1999,b=0)= 0.032341 m^2/Vs \t= 323.41 cm^2/Vs\n",
      "\n",
      "T: 70.000000 β: 1e+21 βred: 1.5\t v= 5.59 w= 4.08\t M=0.875977 k=14.575977\t\n",
      " Polaron Es: A= -3.861992 B= 3.863229 C= 1.503309 F= -1.504546\n",
      "\tμ(FHIP)= 0.035834 m^2/Vs \t= 358.34 cm^2/Vs\n",
      "\tμ(Kadanoff)= 0.036852 m^2/Vs \t= 368.52 cm^2/Vs\n",
      "\tμ(Hellwarth1999)= 0.026984 m^2/Vs \t= 269.84 cm^2/Vs\n",
      "\tμ(Hellwarth1999,b=0)= 0.027010 m^2/Vs \t= 270.10 cm^2/Vs\n",
      "\n",
      "T: 80.000000 β: 9.1e+20 βred: 1.3\t v= 6.20 w= 4.60\t M=0.818309 k=17.284999\t\n",
      " Polaron Es: A= -4.117442 B= 4.070393 C= 1.592655 F= -1.545606\n",
      "\tμ(FHIP)= 0.034525 m^2/Vs \t= 345.25 cm^2/Vs\n",
      "\tμ(Kadanoff)= 0.031068 m^2/Vs \t= 310.68 cm^2/Vs\n",
      "\tμ(Hellwarth1999)= 0.023628 m^2/Vs \t= 236.28 cm^2/Vs\n",
      "\tμ(Hellwarth1999,b=0)= 0.023653 m^2/Vs \t= 236.53 cm^2/Vs\n",
      "\n",
      "T: 90.000000 β: 8e+20 βred: 1.2\t v= 6.81 w= 5.12\t M=0.768311 k=20.137051\t\n",
      " Polaron Es: A= -4.349941 B= 4.270106 C= 1.676505 F= -1.596670\n",
      "\tμ(FHIP)= 0.034197 m^2/Vs \t= 341.97 cm^2/Vs\n",
      "\tμ(Kadanoff)= 0.027353 m^2/Vs \t= 273.53 cm^2/Vs\n",
      "\tμ(Hellwarth1999)= 0.021319 m^2/Vs \t= 213.19 cm^2/Vs\n",
      "\tμ(Hellwarth1999,b=0)= 0.021344 m^2/Vs \t= 213.44 cm^2/Vs\n",
      "\n",
      "T: 100.000000 β: 7.2e+20 βred: 1.1\t v= 7.44 w= 5.67\t M=0.721276 k=23.206994\t\n",
      " Polaron Es: A= -4.564918 B= 4.462616 C= 1.758244 F= -1.655942\n",
      "\tμ(FHIP)= 0.034537 m^2/Vs \t= 345.37 cm^2/Vs\n",
      "\tμ(Kadanoff)= 0.024862 m^2/Vs \t= 248.62 cm^2/Vs\n",
      "\tμ(Hellwarth1999)= 0.019640 m^2/Vs \t= 196.40 cm^2/Vs\n",
      "\tμ(Hellwarth1999,b=0)= 0.019664 m^2/Vs \t= 196.64 cm^2/Vs\n",
      "\n",
      "T: 110.000000 β: 6.6e+20 βred: 0.98\t v= 8.04 w= 6.19\t M=0.685518 k=26.277638\t\n",
      " Polaron Es: A= -4.758244 B= 4.648258 C= 1.832242 F= -1.722255\n",
      "\tμ(FHIP)= 0.035129 m^2/Vs \t= 351.29 cm^2/Vs\n",
      "\tμ(Kadanoff)= 0.022990 m^2/Vs \t= 229.90 cm^2/Vs\n",
      "\tμ(Hellwarth1999)= 0.018337 m^2/Vs \t= 183.37 cm^2/Vs\n",
      "\tμ(Hellwarth1999,b=0)= 0.018361 m^2/Vs \t= 183.61 cm^2/Vs\n",
      "\n",
      "T: 120.000000 β: 6e+20 βred: 0.9\t v= 8.82 w= 6.90\t M=0.632726 k=30.148556\t\n",
      " Polaron Es: A= -4.952218 B= 4.827589 C= 1.919424 F= -1.794795\n",
      "\tμ(FHIP)= 0.036540 m^2/Vs \t= 365.40 cm^2/Vs\n",
      "\tμ(Kadanoff)= 0.021920 m^2/Vs \t= 219.20 cm^2/Vs\n",
      "\tμ(Hellwarth1999)= 0.017374 m^2/Vs \t= 173.74 cm^2/Vs\n",
      "\tμ(Hellwarth1999,b=0)= 0.017394 m^2/Vs \t= 173.94 cm^2/Vs\n",
      "\n",
      "T: 130.000000 β: 5.6e+20 βred: 0.83\t v= 9.27 w= 7.28\t M=0.621159 k=32.937989\t\n",
      " Polaron Es: A= -5.102904 B= 5.001018 C= 1.974882 F= -1.872996\n",
      "\tμ(FHIP)= 0.037157 m^2/Vs \t= 371.57 cm^2/Vs\n",
      "\tμ(Kadanoff)= 0.020576 m^2/Vs \t= 205.76 cm^2/Vs\n",
      "\tμ(Hellwarth1999)= 0.016470 m^2/Vs \t= 164.70 cm^2/Vs\n",
      "\tμ(Hellwarth1999,b=0)= 0.016493 m^2/Vs \t= 164.93 cm^2/Vs\n",
      "\n",
      "T: 140.000000 β: 5.2e+20 βred: 0.77\t v= 9.88 w= 7.82\t M=0.595431 k=36.398685\t\n",
      " Polaron Es: A= -5.253834 B= 5.169039 C= 2.041192 F= -1.956397\n",
      "\tμ(FHIP)= 0.038368 m^2/Vs \t= 383.68 cm^2/Vs\n",
      "\tμ(Kadanoff)= 0.019729 m^2/Vs \t= 197.29 cm^2/Vs\n",
      "\tμ(Hellwarth1999)= 0.015763 m^2/Vs \t= 157.63 cm^2/Vs\n",
      "\tμ(Hellwarth1999,b=0)= 0.015786 m^2/Vs \t= 157.86 cm^2/Vs\n",
      "\n",
      "T: 150.000000 β: 4.8e+20 βred: 0.72\t v= 10.55 w= 8.43\t M=0.566543 k=40.248407\t\n",
      " Polaron Es: A= -5.398142 B= 5.332062 C= 2.110736 F= -2.044656\n",
      "\tμ(FHIP)= 0.039870 m^2/Vs \t= 398.70 cm^2/Vs\n",
      "\tμ(Kadanoff)= 0.019134 m^2/Vs \t= 191.34 cm^2/Vs\n",
      "\tμ(Hellwarth1999)= 0.015179 m^2/Vs \t= 151.79 cm^2/Vs\n",
      "\tμ(Hellwarth1999,b=0)= 0.015200 m^2/Vs \t= 152.00 cm^2/Vs\n",
      "\n",
      "T: 160.000000 β: 4.5e+20 βred: 0.67\t v= 11.11 w= 8.93\t M=0.548981 k=43.775981\t\n",
      " Polaron Es: A= -5.522658 B= 5.490427 C= 2.169721 F= -2.137490\n",
      "\tμ(FHIP)= 0.041172 m^2/Vs \t= 411.72 cm^2/Vs\n",
      "\tμ(Kadanoff)= 0.018525 m^2/Vs \t= 185.25 cm^2/Vs\n",
      "\tμ(Hellwarth1999)= 0.014645 m^2/Vs \t= 146.45 cm^2/Vs\n",
      "\tμ(Hellwarth1999,b=0)= 0.014667 m^2/Vs \t= 146.67 cm^2/Vs\n",
      "\n",
      "T: 170.000000 β: 4.3e+20 βred: 0.64\t v= 11.78 w= 9.54\t M=0.525541 k=47.842191\t\n",
      " Polaron Es: A= -5.644525 B= 5.644493 C= 2.234695 F= -2.234663\n",
      "\tμ(FHIP)= 0.042810 m^2/Vs \t= 428.10 cm^2/Vs\n",
      "\tμ(Kadanoff)= 0.018128 m^2/Vs \t= 181.28 cm^2/Vs\n",
      "\tμ(Hellwarth1999)= 0.014200 m^2/Vs \t= 142.00 cm^2/Vs\n",
      "\tμ(Hellwarth1999,b=0)= 0.014221 m^2/Vs \t= 142.21 cm^2/Vs\n",
      "\n",
      "T: 180.000000 β: 4e+20 βred: 0.6\t v= 11.92 w= 9.61\t M=0.539012 k=49.793790\t\n",
      " Polaron Es: A= -5.719835 B= 5.794564 C= 2.261224 F= -2.335952\n",
      "\tμ(FHIP)= 0.043209 m^2/Vs \t= 432.09 cm^2/Vs\n",
      "\tμ(Kadanoff)= 0.017281 m^2/Vs \t= 172.81 cm^2/Vs\n",
      "\tμ(Hellwarth1999)= 0.013693 m^2/Vs \t= 136.93 cm^2/Vs\n",
      "\tμ(Hellwarth1999,b=0)= 0.013720 m^2/Vs \t= 137.20 cm^2/Vs\n",
      "\n",
      "T: 190.000000 β: 3.8e+20 βred: 0.57\t v= 13.02 w= 10.66\t M=0.491475 k=55.867270\t\n",
      " Polaron Es: A= -5.851908 B= 5.940951 C= 2.352199 F= -2.441241\n",
      "\tμ(FHIP)= 0.045977 m^2/Vs \t= 459.77 cm^2/Vs\n",
      "\tμ(Kadanoff)= 0.017420 m^2/Vs \t= 174.20 cm^2/Vs\n",
      "\tμ(Hellwarth1999)= 0.013428 m^2/Vs \t= 134.28 cm^2/Vs\n",
      "\tμ(Hellwarth1999,b=0)= 0.013448 m^2/Vs \t= 134.48 cm^2/Vs\n",
      "\n",
      "T: 200.000000 β: 3.6e+20 βred: 0.54\t v= 13.67 w= 11.25\t M=0.474993 k=60.157077\t\n",
      " Polaron Es: A= -5.944025 B= 6.083832 C= 2.410509 F= -2.550316\n",
      "\tμ(FHIP)= 0.047689 m^2/Vs \t= 476.89 cm^2/Vs\n",
      "\tμ(Kadanoff)= 0.017165 m^2/Vs \t= 171.65 cm^2/Vs\n",
      "\tμ(Hellwarth1999)= 0.013103 m^2/Vs \t= 131.03 cm^2/Vs\n",
      "\tμ(Hellwarth1999,b=0)= 0.013122 m^2/Vs \t= 131.22 cm^2/Vs\n",
      "\n",
      "T: 210.000000 β: 3.4e+20 βred: 0.51\t v= 14.32 w= 11.85\t M=0.459763 k=64.560009\t\n",
      " Polaron Es: A= -6.027889 B= 6.223455 C= 2.467490 F= -2.663056\n",
      "\tμ(FHIP)= 0.049438 m^2/Vs \t= 494.38 cm^2/Vs\n",
      "\tμ(Kadanoff)= 0.016947 m^2/Vs \t= 169.47 cm^2/Vs\n",
      "\tμ(Hellwarth1999)= 0.012807 m^2/Vs \t= 128.07 cm^2/Vs\n",
      "\tμ(Hellwarth1999,b=0)= 0.012826 m^2/Vs \t= 128.26 cm^2/Vs\n",
      "\n",
      "T: 220.000000 β: 3.3e+20 βred: 0.49\t v= 14.87 w= 12.35\t M=0.449844 k=68.632806\t\n",
      " Polaron Es: A= -6.098157 B= 6.360046 C= 2.517446 F= -2.779335\n",
      "\tμ(FHIP)= 0.051020 m^2/Vs \t= 510.20 cm^2/Vs\n",
      "\tμ(Kadanoff)= 0.016695 m^2/Vs \t= 166.95 cm^2/Vs\n",
      "\tμ(Hellwarth1999)= 0.012521 m^2/Vs \t= 125.21 cm^2/Vs\n",
      "\tμ(Hellwarth1999,b=0)= 0.012540 m^2/Vs \t= 125.40 cm^2/Vs\n",
      "\n",
      "T: 230.000000 β: 3.1e+20 βred: 0.47\t v= 15.53 w= 12.96\t M=0.436400 k=73.257624\t\n",
      " Polaron Es: A= -6.167166 B= 6.493767 C= 2.572436 F= -2.899037\n",
      "\tμ(FHIP)= 0.052834 m^2/Vs \t= 528.34 cm^2/Vs\n",
      "\tμ(Kadanoff)= 0.016537 m^2/Vs \t= 165.37 cm^2/Vs\n",
      "\tμ(Hellwarth1999)= 0.012271 m^2/Vs \t= 122.71 cm^2/Vs\n",
      "\tμ(Hellwarth1999,b=0)= 0.012290 m^2/Vs \t= 122.90 cm^2/Vs\n",
      "\n",
      "T: 240.000000 β: 3e+20 βred: 0.45\t v= 16.17 w= 13.55\t M=0.424565 k=77.910052\t\n",
      " Polaron Es: A= -6.228164 B= 6.624797 C= 2.625423 F= -3.022057\n",
      "\tμ(FHIP)= 0.054638 m^2/Vs \t= 546.38 cm^2/Vs\n",
      "\tμ(Kadanoff)= 0.016389 m^2/Vs \t= 163.89 cm^2/Vs\n",
      "\tμ(Hellwarth1999)= 0.012037 m^2/Vs \t= 120.37 cm^2/Vs\n",
      "\tμ(Hellwarth1999,b=0)= 0.012056 m^2/Vs \t= 120.56 cm^2/Vs\n",
      "\n",
      "T: 250.000000 β: 2.9e+20 βred: 0.43\t v= 16.77 w= 14.10\t M=0.414700 k=82.486734\t\n",
      " Polaron Es: A= -6.280214 B= 6.753264 C= 2.675246 F= -3.148296\n",
      "\tμ(FHIP)= 0.056398 m^2/Vs \t= 563.98 cm^2/Vs\n",
      "\tμ(Kadanoff)= 0.016240 m^2/Vs \t= 162.40 cm^2/Vs\n",
      "\tμ(Hellwarth1999)= 0.011816 m^2/Vs \t= 118.16 cm^2/Vs\n",
      "\tμ(Hellwarth1999,b=0)= 0.011834 m^2/Vs \t= 118.34 cm^2/Vs\n",
      "\n",
      "T: 260.000000 β: 2.8e+20 βred: 0.42\t v= 17.43 w= 14.71\t M=0.403956 k=87.375205\t\n",
      " Polaron Es: A= -6.328396 B= 6.879325 C= 2.726733 F= -3.277663\n",
      "\tμ(FHIP)= 0.058261 m^2/Vs \t= 582.61 cm^2/Vs\n",
      "\tμ(Kadanoff)= 0.016131 m^2/Vs \t= 161.31 cm^2/Vs\n",
      "\tμ(Hellwarth1999)= 0.011614 m^2/Vs \t= 116.14 cm^2/Vs\n",
      "\tμ(Hellwarth1999,b=0)= 0.011631 m^2/Vs \t= 116.31 cm^2/Vs\n",
      "\n",
      "T: 270.000000 β: 2.7e+20 βred: 0.4\t v= 18.01 w= 15.24\t M=0.396123 k=91.995729\t\n",
      " Polaron Es: A= -6.366352 B= 7.003106 C= 2.773317 F= -3.410072\n",
      "\tμ(FHIP)= 0.060010 m^2/Vs \t= 600.10 cm^2/Vs\n",
      "\tμ(Kadanoff)= 0.016000 m^2/Vs \t= 160.00 cm^2/Vs\n",
      "\tμ(Hellwarth1999)= 0.011417 m^2/Vs \t= 114.17 cm^2/Vs\n",
      "\tμ(Hellwarth1999,b=0)= 0.011434 m^2/Vs \t= 114.34 cm^2/Vs\n",
      "\n",
      "T: 280.000000 β: 2.6e+20 βred: 0.39\t v= 18.61 w= 15.80\t M=0.387824 k=96.831432\t\n",
      " Polaron Es: A= -6.399689 B= 7.124698 C= 2.820433 F= -3.545443\n",
      "\tμ(FHIP)= 0.061829 m^2/Vs \t= 618.29 cm^2/Vs\n",
      "\tμ(Kadanoff)= 0.015896 m^2/Vs \t= 158.96 cm^2/Vs\n",
      "\tμ(Hellwarth1999)= 0.011235 m^2/Vs \t= 112.35 cm^2/Vs\n",
      "\tμ(Hellwarth1999,b=0)= 0.011252 m^2/Vs \t= 112.52 cm^2/Vs\n",
      "\n",
      "T: 290.000000 β: 2.5e+20 βred: 0.37\t v= 19.24 w= 16.38\t M=0.379487 k=101.858886\t\n",
      " Polaron Es: A= -6.428601 B= 7.244256 C= 2.868046 F= -3.683701\n",
      "\tμ(FHIP)= 0.063694 m^2/Vs \t= 636.94 cm^2/Vs\n",
      "\tμ(Kadanoff)= 0.015811 m^2/Vs \t= 158.11 cm^2/Vs\n",
      "\tμ(Hellwarth1999)= 0.011064 m^2/Vs \t= 110.64 cm^2/Vs\n",
      "\tμ(Hellwarth1999,b=0)= 0.011081 m^2/Vs \t= 110.81 cm^2/Vs\n",
      "\n",
      "T: 300.000000 β: 2.4e+20 βred: 0.36\t v= 19.83 w= 16.93\t M=0.372649 k=106.750401\t\n",
      " Polaron Es: A= -6.449669 B= 7.361839 C= 2.912604 F= -3.824774\n",
      "\tμ(FHIP)= 0.065503 m^2/Vs \t= 655.03 cm^2/Vs\n",
      "\tμ(Kadanoff)= 0.015718 m^2/Vs \t= 157.18 cm^2/Vs\n",
      "\tμ(Hellwarth1999)= 0.010899 m^2/Vs \t= 108.99 cm^2/Vs\n",
      "\tμ(Hellwarth1999,b=0)= 0.010916 m^2/Vs \t= 109.16 cm^2/Vs\n",
      "\n"
     ]
    }
   ],
   "source": [
    "using Optim\n",
    "\n",
    "const hbar = const ħ = 1.05457162825e-34;          # kg m2 / s \n",
    "const eV = const q = const ElectronVolt = 1.602176487e-19;                         # kg m2 / s2 \n",
    "const me=MassElectron = 9.10938188e-31;                          # kg\n",
    "const Boltzmann = const kB =  1.3806504e-23;                  # kg m2 / K s2 \n",
    "\n",
    "# \"Band Mass\" in Deveresse, actually m_b\n",
    "mb=0.15*me #*1.4 # 0.15 is band reduced mass; 1.4 is polaron renormalised mass\n",
    "\n",
    "freq=2.25E12\n",
    "ω = (2*pi)*freq\n",
    "α=2.395939683378253\n",
    "@printf(\"α=%f\\n\",α)\n",
    "\n",
    "\n",
    "initial=[7.1,6.5]\n",
    "#initial=[9.0,9.0]\n",
    "# Main use of these bounds is stopping v or w going negative, at which you get a NaN error as you are evaluating log(-ve Real)\n",
    "lower=[0.1,0.1]\n",
    "upper=[100.0,100.0]\n",
    "\n",
    "\n",
    "# Empty arrays for storing data \n",
    "Ts=[]\n",
    "Kμs=[]\n",
    "Hμs=[]\n",
    "FHIPμs=[]\n",
    "ks=[]\n",
    "Ms=[]\n",
    "As=[]\n",
    "Bs=[]\n",
    "Cs=[]\n",
    "Fs=[]\n",
    "\n",
    "# I think this β term subsumes the energy of the phonon; i.e. kbT c.f. ħω\n",
    "for T in 10:10:300\n",
    "    β=1/(kB*T)\n",
    "    βred=ħ*ω*β\n",
    "    @printf(\"T: %f β: %.2g βred: %.2g\\t\",T,β,βred)\n",
    "    myf(x) = F(x[1],x[2],βred,α)\n",
    "    res=optimize(DifferentiableFunction(myf), initial, lower, upper, Fminbox(); optimizer = BFGS, optimizer_o=Optim.Options(autodiff=true))\n",
    "    minimum=Optim.minimizer(res)\n",
    "    #show(Optim.converged(res)) # All came out as 'true'\n",
    "    \n",
    "    v=minimum[1]\n",
    "    w=minimum[2]\n",
    "        \n",
    "    @printf(\" v= %.2f w= %.2f\\t\",v,w)\n",
    "        \n",
    "    # From 1962 Feynman, definition of v and w in terms of the coupled Mass and spring-constant\n",
    "    # See Page 1007, just after equation (18)\n",
    "    # Units of M appear to be 'electron masses'\n",
    "    # Unsure of units for k, spring coupling constant\n",
    "    k=(v^2-w^2)\n",
    "    M=(v^2-w^2)/w^2\n",
    "    @printf(\" M=%f k=%f\\t\",M,k)\n",
    "    \n",
    "    append!(ks,k)\n",
    "    append!(Ms,M)\n",
    "    \n",
    "    # F(v,w,β,α)=-(A(v,w,β)+B(v,w,β,α)+C(v,w,β)) #(62a) - Hellwarth 1999\n",
    "    @printf(\"\\n Polaron Es: A= %f B= %f C= %f F= %f\",A(v,w,βred),B(v,w,βred,α),C(v,w,βred),F(v,w,βred,α))\n",
    "    append!(As,A(v,w,βred))\n",
    "    append!(Bs,B(v,w,βred,α))\n",
    "    append!(Cs,C(v,w,βred))\n",
    "    append!(Fs,F(v,w,βred,α))\n",
    "    \n",
    "\n",
    "    \n",
    "    #[1.60] in Devereese, page 36; 6th Edition of Frohlich polaron notes\n",
    "    # I believe here β is in SI (expanded) units\n",
    "    μ=(w/v)^3 * (3*q)/(4*mb*ħ*ω^2*α*β) * exp(ħ*ω*β) * exp((v^2-w^2)/(w^2*v))\n",
    "    @printf(\"\\n\\tμ(FHIP)= %f m^2/Vs \\t= %.2f cm^2/Vs\",μ,μ*100^2)\n",
    "    append!(Ts,T)\n",
    "    append!(FHIPμs,μ*100^2)\n",
    "    \n",
    "    #[1.61] - Kadanoff's Boltzmann eqn derived mob\n",
    "    μ=(w/v)^3 * (q)/(2*mb*ω*α) * exp(ħ*ω*β) * exp((v^2-w^2)/(w^2*v))\n",
    "    @printf(\"\\n\\tμ(Kadanoff)= %f m^2/Vs \\t= %.2f cm^2/Vs\",μ,μ*100^2)    \n",
    "\n",
    "    append!(Kμs,μ*100^2)\n",
    "    \n",
    "    #Hellwarth1999 Eqn (2) and (1) - Unclear where from (just references FHIP), contains factors of βred\n",
    "    R=(v^2-w^2)/(w^2*v) # inline, page 300 just after Eqn (2)\n",
    "    #b=R*βred/sinh(b*βred*v/2) # this self-references b! what the hell?\n",
    "    # Oops - it's a typo from Feynman1962!\n",
    "    b=R*βred/sinh(βred*v/2) # Feynman1962 version; page 1010, Eqn (47b)\n",
    "    #b=0 # Hellwarth1999/Baggio1997 \"Setting b=0 makes less than 0.1% error\"\n",
    "    a=sqrt( (βred/2)^2 + R*βred*coth(βred*v/2))\n",
    "    k(u,a,b,v) = (u^2+a^2-b*cos(v*u))^(-3/2)*cos(u) # integrand in (2)\n",
    "    K=quadgk(u->k(u,a,b,v),0,Inf)[1] # numerical quadrature integration of (2)\n",
    "    \n",
    "    #Right-hand-side of Eqn 1 in Hellwarth 1999 // Eqn (4) in Baggio1997\n",
    "    RHS= α/(3*sqrt(π)) * βred^(5/2) / sinh(βred/2) * (v^3/w^3) * K\n",
    "    μ=RHS^-1 * (q)/(ω*mb)\n",
    "    @printf(\"\\n\\tμ(Hellwarth1999)= %f m^2/Vs \\t= %.2f cm^2/Vs\",μ,μ*100^2)    \n",
    "    append!(Hμs,μ*100^2)\n",
    "    \n",
    "    #Hellwarth1999 b=0\n",
    "    R=(v^2-w^2)/(w^2*v) # inline, page 300 just after Eqn (2)\n",
    "    b=0 # Hellwarth1999/Baggio1997 \"Setting b=0 makes less than 0.1% error\"\n",
    "    a=sqrt( (βred/2)^2 + R*βred*coth(βred*v/2))\n",
    "    k(u,a,b,v) = (u^2+a^2-b*cos(v*u))^(-3/2)*cos(u) # integrand in (2)\n",
    "    K=quadgk(u->k(u,a,b,v),0,Inf)[1] # numerical quadrature integration of (2)\n",
    "\n",
    "    #Right-hand-side of Eqn 1 in Hellwarth 1999 // Eqn (4) in Baggio1997\n",
    "    RHS= α/(3*sqrt(π)) * βred^(5/2) / sinh(βred/2) * (v^3/w^3) * K\n",
    "    μ=RHS^-1 * (q)/(ω*mb)\n",
    "    @printf(\"\\n\\tμ(Hellwarth1999,b=0)= %f m^2/Vs \\t= %.2f cm^2/Vs\",μ,μ*100^2)    \n",
    "    #append!(Hμs,μ*100^2)\n",
    "    \n",
    "    \n",
    "    @printf(\"\\n\\n\")\n",
    "    \n",
    "    # Recycle previous results as next guess\n",
    "    initial=[v,w] # Caution! Might cause weird sticking in local minima\n",
    "end"
   ]
  },
  {
   "cell_type": "code",
   "execution_count": 37,
   "metadata": {
    "collapsed": false
   },
   "outputs": [],
   "source": [
    "using Plots\n",
    "default(size=(600,400))"
   ]
  },
  {
   "cell_type": "code",
   "execution_count": 38,
   "metadata": {
    "collapsed": false
   },
   "outputs": [
    {
     "data": {
      "text/html": [
       "<img src=\"data:image/png;base64,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\" />"
      ]
     },
     "execution_count": 38,
     "metadata": {},
     "output_type": "execute_result"
    }
   ],
   "source": [
    "plot(Ts,Ms,label=\"Mass\",marker=2,xlab=\"Temperature (K)\",ylab=\"Mass of Phonon cloud (electron masses)\",ylim=(0,1.2))\n",
    "#plot!([0],[0])\n",
    "#plot!(Ts,ks,label=\"Spring Consts\",marker=2)"
   ]
  },
  {
   "cell_type": "code",
   "execution_count": 39,
   "metadata": {
    "collapsed": false
   },
   "outputs": [
    {
     "data": {
      "text/html": [
       "<img src=\"data:image/png;base64,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\" />"
      ]
     },
     "execution_count": 39,
     "metadata": {},
     "output_type": "execute_result"
    }
   ],
   "source": [
    "plot(Ts,ks,label=\"Spring Consts\",marker=2, xlab=\"Temperature (K)\",ylab=\"Some internal spring const\",)\n",
    "plot!([0],[0])\n"
   ]
  },
  {
   "cell_type": "code",
   "execution_count": 40,
   "metadata": {
    "collapsed": false
   },
   "outputs": [
    {
     "data": {
      "text/html": [
       "<img src=\"data:image/png;base64,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\" />"
      ]
     },
     "execution_count": 40,
     "metadata": {},
     "output_type": "execute_result"
    }
   ],
   "source": [
    "plot(Ts,As,label=\"A\",marker=2, xlab=\"Temperature (K)\",ylab=\"Energy ?\")\n",
    "plot!(Ts,Bs,label=\"B\",marker=2)\n",
    "plot!(Ts,Cs,label=\"C\",marker=2)\n",
    "#plot!(Ts,Fs,label=\"F\",marker=2)\n",
    "\n",
    "\n",
    "plot!([0],[0])\n"
   ]
  },
  {
   "cell_type": "code",
   "execution_count": 51,
   "metadata": {
    "collapsed": false
   },
   "outputs": [
    {
     "data": {
      "text/html": [
       "<img src=\"data:image/png;base64,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\" />"
      ]
     },
     "execution_count": 51,
     "metadata": {},
     "output_type": "execute_result"
    }
   ],
   "source": [
    "using Plots\n",
    "\n",
    "default(size=(600,400))\n",
    "plot(Ts,Kμs,label=\"Kadanoff Polaron mobility\",marker=2,xlab=\"Temperature (K)\",ylab=\"Mobility (cm^2/Vs)\",ylims=(0,1000))\n",
    "plot!(Ts,FHIPμs,label=\"FHIP\",marker=2)\n",
    "plot!(Ts,Hμs,label=\"Hellwarth1999\",marker=2)\n",
    "#plot!([0],[0])\n"
   ]
  },
  {
   "cell_type": "code",
   "execution_count": 21,
   "metadata": {
    "collapsed": false
   },
   "outputs": [
    {
     "data": {
      "text/plain": [
       "1×2 Array{Int64,2}:\n",
       " 300  115"
      ]
     },
     "execution_count": 21,
     "metadata": {},
     "output_type": "execute_result"
    }
   ],
   "source": [
    "# Milot/Herz 2015 Time-Resolved-Microwave-Conductivity mobilities\n",
    "# Data from table in SI of: DOI: 10.1002/adfm.201502340\n",
    "# Absolute values possibly dodge due to unknown yield of charge carriers; but hopefully trend A.OK!\n",
    "Milot= [\n",
    "8 184\n",
    "40 321\n",
    "80 143\n",
    "120 62\n",
    "140 40\n",
    "160 52\n",
    "180 44\n",
    "205 41\n",
    "230 39\n",
    "265 26\n",
    "295 35\n",
    "310 24\n",
    "320 24\n",
    "330 19\n",
    "340 16\n",
    "355 15 \n",
    "]\n",
    "\n",
    "# IV estimated mobilities (?!) from large single crystals, assumed ambient T\n",
    "# Nature Communications 6, Article number: 7586 (2015)\n",
    "# doi:10.1038/ncomms8586\n",
    "Saidaminov = \n",
    "[ 300 67.2 ]\n",
    "\n",
    "\n",
    "#Semonin2016,\n",
    "#  doi = {10.1021/acs.jpclett.6b01308},\n",
    "Semonin = \n",
    "[ 300 115 ] # +- 15 cm^2/Vs, holes+electrons"
   ]
  },
  {
   "cell_type": "code",
   "execution_count": 44,
   "metadata": {
    "collapsed": false
   },
   "outputs": [
    {
     "data": {
      "text/html": [
       "<img src=\"data:image/png;base64,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\" />"
      ]
     },
     "execution_count": 44,
     "metadata": {},
     "output_type": "execute_result"
    }
   ],
   "source": [
    "#default(size=(1200,800))\n",
    "\n",
    "plot(Milot[:,1],Milot[:,2],label=\"Milot T-dep TRMC Polycrystal\",\n",
    "xlab=\"Temperature (K)\",ylab=\"Mobility (cm^2/Vs)\",marker=2, ylims=(0,400) )\n",
    "plot!(Saidaminov[:,1],Saidaminov[:,2],label=\"Saidaminov JV Single Crystal\", marker=6)\n",
    "plot!(Semonin[:,1],Semonin[:,2],label=\"Semonin Single Crystal TRMC\", marker=6)\n",
    "plot!(Ts,Kμs,label=\"Kadanoff Polaron mobility\",marker=2)\n",
    "plot!(Ts,Hμs,label=\"Hellwarth1999 Polaron mobility\",marker=2)\n",
    "#plot!([0],[0])"
   ]
  },
  {
   "cell_type": "code",
   "execution_count": 23,
   "metadata": {
    "collapsed": false
   },
   "outputs": [
    {
     "ename": "ErrorException",
     "evalue": "At least one finite value must be provided to formatter.",
     "output_type": "error",
     "traceback": [
      "At least one finite value must be provided to formatter.",
      "",
      " in showoff(::Array{Float64,1}, ::Symbol) at /Users/jarvist/.julia/v0.5/Showoff/src/Showoff.jl:120",
      " in optimal_ticks_and_labels(::Plots.Axis, ::Void) at /Users/jarvist/.julia/v0.5/Plots/src/axes.jl:176",
      " in get_ticks(::Plots.Axis) at /Users/jarvist/.julia/v0.5/Plots/src/axes.jl:204",
      " in _before_layout_calcs(::Plots.Plot{Plots.PyPlotBackend}) at /Users/jarvist/.julia/v0.5/Plots/src/backends/pyplot.jl:1034",
      " in prepare_output(::Plots.Plot{Plots.PyPlotBackend}) at /Users/jarvist/.julia/v0.5/Plots/src/plot.jl:247",
      " in show(::Base64EncodePipe, ::MIME{Symbol(\"image/png\")}, ::Plots.Plot{Plots.PyPlotBackend}) at /Users/jarvist/.julia/v0.5/Plots/src/output.jl:196",
      " in base64encode(::Function, ::MIME{Symbol(\"image/png\")}, ::Vararg{Any,N}) at ./base64.jl:160",
      " in show(::Base.AbstractIOBuffer{Array{UInt8,1}}, ::MIME{Symbol(\"text/html\")}, ::Plots.Plot{Plots.PyPlotBackend}) at /Users/jarvist/.julia/v0.5/Plots/src/output.jl:174",
      " in show(::Base.AbstractIOBuffer{Array{UInt8,1}}, ::String, ::Plots.Plot{Plots.PyPlotBackend}) at ./multimedia.jl:33",
      " in #sprint#304(::Void, ::Function, ::Int64, ::Function, ::String, ::Vararg{Any,N}) at ./strings/io.jl:37",
      " in display_dict(::Plots.Plot{Plots.PyPlotBackend}) at /Users/jarvist/.julia/v0.5/Plots/src/output.jl:266",
      " in execute_request(::ZMQ.Socket, ::IJulia.Msg) at /Users/jarvist/.julia/v0.5/IJulia/src/execute_request.jl:188",
      " in eventloop(::ZMQ.Socket) at /Users/jarvist/.julia/v0.5/IJulia/src/eventloop.jl:8",
      " in (::IJulia.##13#19)() at ./task.jl:360"
     ]
    }
   ],
   "source": [
    "plot!(yscale=(:log))"
   ]
  },
  {
   "cell_type": "code",
   "execution_count": 24,
   "metadata": {
    "collapsed": true
   },
   "outputs": [],
   "source": [
    "default(size=(1200,800))"
   ]
  },
  {
   "cell_type": "code",
   "execution_count": 46,
   "metadata": {
    "collapsed": false
   },
   "outputs": [
    {
     "name": "stdout",
     "output_type": "stream",
     "text": [
      "Reduced mass: 0.6131766805472932\n",
      "Feynman Polaron Radius: 1.941915699860798 , electron-mass unit\n",
      "Assuming Bohr, that's 1.027622950052337e-10 m\n",
      "Feynman Polaron Radius: 1.8534241915856385e-15, SI\n"
     ]
    }
   ],
   "source": [
    "# OK, now Ref 9 in  Hellwarth 1999 -\n",
    "# Schultz Physical Review Volume 116, Number 3, Nov 1959\n",
    "# Slow Electrons in Polar Crystals: Self-Energy,  Mass,  and Mobility\n",
    "\n",
    "const MassElectron = 9.10938188e-31;                          # kg\n",
    "\n",
    "# 300 K fit from above\n",
    "v=19.83 \n",
    "w= 16.93\n",
    "\n",
    "# Guess at What Hellwarth 1999 used: \n",
    "#  \"Using these values we estimate a room-temperature polaron radius of approx 0.6 nm for BiSiO\"\n",
    "# So they're using an omega=500 cm^-1 = 62 meV, so βred=2.5\n",
    "# Not sure what alpha they are using; (43) gives it in terms of phonon energies + reduced masses\n",
    "# Best guess for now - alpha=3, βred=2.5, so from Table III\n",
    "v=4.10 \n",
    "w=2.55\n",
    "\n",
    "m=1.0 #MassElectron\n",
    "# Eqn (2.4), Shultz1959\n",
    "μ=m*(v^2-w^2)/v^2\n",
    "println(\"Reduced mass: $μ\")\n",
    "rf=(3/2*μ*v)^(1/2)\n",
    "println(\"Feynman Polaron Radius: $rf , electron-mass unit\")\n",
    "println(\"Assuming Bohr, that's \",rf*5.2918e-11,\" m\")\n",
    "rf=(3/2*μ*v*MassElectron)^(1/2)\n",
    "println(\"Feynman Polaron Radius: $rf, SI\")\n",
    "\n",
    "\n",
    "# Units?!? Bohr?\n"
   ]
  },
  {
   "cell_type": "code",
   "execution_count": null,
   "metadata": {
    "collapsed": true
   },
   "outputs": [],
   "source": []
  },
  {
   "cell_type": "code",
   "execution_count": null,
   "metadata": {
    "collapsed": true
   },
   "outputs": [],
   "source": []
  }
 ],
 "metadata": {
  "anaconda-cloud": {},
  "kernelspec": {
   "display_name": "Julia 0.5.0",
   "language": "julia",
   "name": "julia-0.5"
  },
  "language_info": {
   "file_extension": ".jl",
   "mimetype": "application/julia",
   "name": "julia",
   "version": "0.5.0"
  }
 },
 "nbformat": 4,
 "nbformat_minor": 1
}
