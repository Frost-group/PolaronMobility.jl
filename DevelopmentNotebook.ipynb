{
 "cells": [
  {
   "cell_type": "code",
   "execution_count": null,
   "metadata": {
    "collapsed": false
   },
   "outputs": [],
   "source": [
    "# Hellwarth 1999 PRB - Part IV; T-dep of the Feynman variation parameter\n",
    "# A Friday afternoon of hacking to try and implement the T-dep electron-phonon coupling from the above PRB\n",
    "# Which was unusually successful! And more or less reproduced Table III"
   ]
  },
  {
   "cell_type": "code",
   "execution_count": null,
   "metadata": {
    "collapsed": false
   },
   "outputs": [],
   "source": [
    "# Just in case anyone is following this from the far future; we are using:\n",
    "versioninfo()"
   ]
  },
  {
   "cell_type": "code",
   "execution_count": null,
   "metadata": {
    "collapsed": false
   },
   "outputs": [],
   "source": [
    "# one-dimensional numerical integration in Julia using adaptive Gauss-Kronrod quadrature\n",
    "using QuadGK\n",
    "\n",
    "# Equation numbers follow above Hellwarth 1999 PRB\n",
    "# 62b\n",
    "A(v,w,β)=3/β*( log(v/w) - 1/2*log(2*π*β) - log(sinh(v*β/2)/sinh(w*β/2)))\n",
    "\n",
    "# 62d\n",
    "Y(x,v,β)=1/(1-exp(-v*β))*(1+exp(-v*β)-exp(-v*x)-exp(v*(x-β)))\n",
    "# 62c integrand\n",
    "f(x,v,w,β)=(exp(β-x)+exp(x))/(w^2*x*(1-x/β)+Y(x,v,β)*(v^2-w^2)/v)^(1/2)\n",
    "# 62c\n",
    "B(v,w,β,α) = α*v/(sqrt(π)*(exp(β)-1)) * quadgk(x->f(x,v,w,β),0,β/2)[1]\n",
    "#62e\n",
    "C(v,w,β)=3/4*(v^2-w^2)/v * (coth(v*β/2)-2/(v*β))\n",
    "\n",
    "F(v,w,β,α)=-(A(v,w,β)+B(v,w,β,α)+C(v,w,β)) #(62a)\n",
    "\n",
    "# Can now evaluate, e.g.\n",
    "# F(v,w,β,α)=F(7.2,6.5,1.0,1.0)\n",
    "# BUT - this is just the objective function! Not the optimised parameters.\n",
    "# Also there's a scary numeric integration (quadgk) buried within..."
   ]
  },
  {
   "cell_type": "code",
   "execution_count": null,
   "metadata": {
    "collapsed": false
   },
   "outputs": [],
   "source": [
    "# Print out F(alpha,beta) for a specific v,w; as a test\n",
    "@printf(\"\\t\\t\")\n",
    "for α in 1:5\n",
    "    @printf(\"α=%d\\t\\t\",α)\n",
    "end\n",
    "@printf(\"\\n\")\n",
    "\n",
    "for β in 1:0.25:3.0\n",
    "    v=w=4\n",
    "    print(\"β: $β  \\t||\")\n",
    "    for α in 1:5\n",
    "        @printf(\"%f\\t\",F(v,w,β,α))\n",
    "    end\n",
    "    println()\n",
    "end"
   ]
  },
  {
   "cell_type": "code",
   "execution_count": null,
   "metadata": {
    "collapsed": false
   },
   "outputs": [],
   "source": [
    "# OK - very primitive!\n",
    "# But these are 1D traces along the solution for Alpha=Beta=1 in Helwarth PRB TABLE III,\n",
    "# this was used to correct a transcription error in the above typed-in equations\n",
    "# It was also good to see what F(v,w) looked like as a function of v and w near an optimal solution\n",
    "\n",
    "v=7.20\n",
    "w=6.5\n",
    "α=1.0\n",
    "β=1.0\n",
    "\n",
    "for v=6:0.1:8\n",
    "    @printf(\"%f %f\\n\",v,F(v,w,β,α))\n",
    "end\n",
    "\n",
    "@printf(\"\\n\")\n",
    "v=7.20\n",
    "for w=6:0.1:7\n",
    "    @printf(\"%f %f\\n\",w,F(v,w,β,α))\n",
    "end"
   ]
  },
  {
   "cell_type": "code",
   "execution_count": null,
   "metadata": {
    "collapsed": false
   },
   "outputs": [],
   "source": [
    "# Angle for the ringside seats, when the fall, don't blame me, Bring on the Major Leagues\n",
    "using Optim\n",
    "# Julia package stuffed full of magic, does auto-differentation & etc. etc."
   ]
  },
  {
   "cell_type": "code",
   "execution_count": null,
   "metadata": {
    "collapsed": true
   },
   "outputs": [],
   "source": []
  },
  {
   "cell_type": "code",
   "execution_count": null,
   "metadata": {
    "collapsed": false
   },
   "outputs": [],
   "source": [
    "Fopt(x) = F(x[1],x[2],1,1)\n",
    "\n",
    "Fopt([7.2,6.5])\n",
    "# OK! It looks like I can bury the alpha, beta parameters (which we don't optimise), by wrapping our function in a function definition."
   ]
  },
  {
   "cell_type": "code",
   "execution_count": null,
   "metadata": {
    "collapsed": false
   },
   "outputs": [],
   "source": [
    "initial=[7.2,6.5]\n",
    "\n",
    "optimize(Fopt,  initial, LBFGS())"
   ]
  },
  {
   "cell_type": "code",
   "execution_count": null,
   "metadata": {
    "collapsed": false
   },
   "outputs": [],
   "source": [
    "optimize(Fopt, initial, BFGS(), Optim.Options(autodiff=true))"
   ]
  },
  {
   "cell_type": "code",
   "execution_count": null,
   "metadata": {
    "collapsed": false
   },
   "outputs": [],
   "source": [
    "optimize(Fopt, initial, BFGS(), Optim.Options(autodiff=true))"
   ]
  },
  {
   "cell_type": "code",
   "execution_count": null,
   "metadata": {
    "collapsed": false
   },
   "outputs": [],
   "source": [
    "# Right! The above looks like this might actually just work...\n",
    "\n",
    "@printf(\"\\t\\t\")\n",
    "for α in 1:5\n",
    "    @printf(\"α=%d\\t\\t\",α)\n",
    "end\n",
    "@printf(\"\\n\")\n",
    "\n",
    "for β in 1:0.25:3.0\n",
    "    print(\"β: $β  \\t||\")\n",
    "    for α in 1:5\n",
    "        myf(x) = F(x[1],x[2],β,α)\n",
    "        solution=Optim.minimizer(optimize(myf, initial,ConjugateGradient(), Optim.Options(autodiff=true)))\n",
    "        \n",
    "        #print(solution,\"\\t\")\n",
    "        @printf(\"%.2f %.2f\\t\",solution[1],solution[2])\n",
    "    end\n",
    "    println()\n",
    "end"
   ]
  },
  {
   "cell_type": "code",
   "execution_count": null,
   "metadata": {
    "collapsed": false
   },
   "outputs": [],
   "source": [
    "# After a bit of fiddling, I figured out how to add bounds, to stop that 'DomainError', \n",
    "# which occurs where the you are evaluating log(-ve Real), i.e. w<0.0 or v<0.0\n",
    "\n",
    "initial=[7.2,6.5]\n",
    "\n",
    "lower=[0.0,0.0]\n",
    "upper=[10.0,10.0]\n",
    "\n",
    "@printf(\"\\t\\t\")\n",
    "for α in 1:5\n",
    "    @printf(\"α=%d\\t\\t\",α)\n",
    "end\n",
    "@printf(\"\\n\")\n",
    "\n",
    "for β in 1:0.25:3.0\n",
    "    print(\"β: $β  \\t||\")\n",
    "    for α in 1:5\n",
    "        myf(x) = F(x[1],x[2],β,α)\n",
    "        solution=optimize(DifferentiableFunction(myf), initial, lower, upper, Fminbox(); optimizer = ConjugateGradient, optimizer_o=Optim.Options(autodiff=true))\n",
    "        minimum=Optim.minimizer(solution)\n",
    "        \n",
    "        v=minimum[1]\n",
    "        w=minimum[2]\n",
    "        #print(solution,\"\\t\")\n",
    "        @printf(\"%.2f %.2f\\t\",v,w)\n",
    "        \n",
    "        \n",
    "    end\n",
    "    println()\n",
    "end"
   ]
  },
  {
   "cell_type": "code",
   "execution_count": null,
   "metadata": {
    "collapsed": false
   },
   "outputs": [],
   "source": [
    "# So that looks really good! I was super stoked to see how close these values are to TABLE III in Hellwarth\n",
    "# However, the solutions all start on (7.20,6.50) so that top-left data point is cheating, whereas the \n",
    "# others have some disagreement / noise associated with them\n",
    "# I was wondering whether it might be a function of the optimiser, so thought I'd try them all\n",
    "\n",
    "initial=[7.1,6.5]\n",
    "# Main use of these bounds is stopping v or w going negative, at which you get a NaN error as you are evaluating log(-ve Real)\n",
    "lower=[1.0,1.0]\n",
    "upper=[10.0,10.0]\n",
    "\n",
    "for optimizer in [BFGS, LBFGS, ConjugateGradient] # Newton, GradientDescent, NelderMead - steps outside box & log(-ve)->NaN error\n",
    "    @printf(\"\\n\\t\\t##### NOW TRIALING: %s #####\\n\\n\",optimizer)\n",
    "\n",
    "    @printf(\"\\t\\t\")\n",
    "    for α in 1:5\n",
    "        @printf(\"α=%d\\t\\t\",α)\n",
    "    end\n",
    "    @printf(\"\\n\")\n",
    "\n",
    "    for β in 1:0.25:3.0\n",
    "        print(\"β: $β  \\t||\")\n",
    "        for α in 1:5\n",
    "            myf(x) = F(x[1],x[2],β,α)\n",
    "            res=optimize(DifferentiableFunction(myf), initial, lower, upper, Fminbox(); optimizer = optimizer, optimizer_o=Optim.Options(autodiff=true))\n",
    "            minimum=Optim.minimizer(res)\n",
    "            #show(Optim.converged(res)) # All came out as 'true'\n",
    "                \n",
    "            #print(solution,\"\\t\")\n",
    "            @printf(\"%.2f %.2f\\t\",minimum[1],minimum[2])\n",
    "        end\n",
    "        println()\n",
    "    end\n",
    "end"
   ]
  },
  {
   "cell_type": "code",
   "execution_count": null,
   "metadata": {
    "collapsed": true
   },
   "outputs": [],
   "source": [
    "# So why the (slight) disagreement? I don't really know.\n",
    "# It may well be that Julia has a much better control of errors, \n",
    "# certainly the Optim package (optimisation) defaults seem to be at the Machine-precision end of the world, \n",
    "# and a lot of intermediates will be Float64 or larger.\n",
    "\n",
    "# The objective function seems quite flat in the vicinity of the optimum, so this would also explain some of the variance."
   ]
  },
  {
   "cell_type": "code",
   "execution_count": null,
   "metadata": {
    "collapsed": false
   },
   "outputs": [],
   "source": [
    "# OK, now Ref 9; Schultz PR Volume 116, Number 3, Nov 1959\n",
    "const MassElectron = 9.10938188e-31;                          # kg\n",
    "v=7.15 \n",
    "w=6.51\n",
    "\n",
    "m=1.0 #MassElectron\n",
    "# Eqn (2.4)\n",
    "μ=m*(v^2-w^2)/v^2\n",
    "println(\"Reduced mass: $μ\")\n",
    "rf=(3/2*μ*v)^(1/2)\n",
    "println(\"Feynman Polaron Radius: $rf\")\n",
    "\n",
    "# Units?!? Bohr?"
   ]
  },
  {
   "cell_type": "code",
   "execution_count": null,
   "metadata": {
    "collapsed": false
   },
   "outputs": [],
   "source": [
    "using Optim\n",
    "\n",
    "const hbar = const ħ = 1.05457162825e-34;          # kg m2 / s \n",
    "const eV = const q = const ElectronVolt = 1.602176487e-19;                         # kg m2 / s2 \n",
    "const me=MassElectron = 9.10938188e-31;                          # kg\n",
    "const Boltzmann = const kB =  1.3806504e-23;                  # kg m2 / K s2 \n",
    "\n",
    "# \"Band Mass\" in Deveresse, actually m_b\n",
    "mb=0.15*me #*1.4 # 0.15 is band reduced mass; 1.4 is polaron renormalised mass\n",
    "\n",
    "freq=2.25E12\n",
    "ω = (2*pi)*freq\n",
    "α=2.395939683378253\n",
    "@printf(\"α=%f\\n\",α)\n",
    "\n",
    "\n",
    "initial=[7.1,6.5]\n",
    "#initial=[9.0,9.0]\n",
    "# Main use of these bounds is stopping v or w going negative, at which you get a NaN error as you are evaluating log(-ve Real)\n",
    "lower=[0.1,0.1]\n",
    "upper=[100.0,100.0]\n",
    "\n",
    "\n",
    "# Empty arrays for storing data \n",
    "Ts=[]\n",
    "Kμs=[]\n",
    "Hμs=[]\n",
    "FHIPμs=[]\n",
    "ks=[]\n",
    "Ms=[]\n",
    "As=[]\n",
    "Bs=[]\n",
    "Cs=[]\n",
    "Fs=[]\n",
    "\n",
    "# I think this β term subsumes the energy of the phonon; i.e. kbT c.f. ħω\n",
    "for T in 10:10:300\n",
    "    β=1/(kB*T)\n",
    "    βred=ħ*ω*β\n",
    "    @printf(\"T: %f β: %.2g βred: %.2g\\t\",T,β,βred)\n",
    "    myf(x) = F(x[1],x[2],βred,α)\n",
    "    res=optimize(DifferentiableFunction(myf), initial, lower, upper, Fminbox(); optimizer = BFGS, optimizer_o=Optim.Options(autodiff=true))\n",
    "    minimum=Optim.minimizer(res)\n",
    "    #show(Optim.converged(res)) # All came out as 'true'\n",
    "    \n",
    "    v=minimum[1]\n",
    "    w=minimum[2]\n",
    "        \n",
    "    @printf(\" v= %.2f w= %.2f\\t\",v,w)\n",
    "        \n",
    "    # From 1962 Feynman, definition of v and w in terms of the coupled Mass and spring-constant\n",
    "    # See Page 1007, just after equation (18)\n",
    "    # Units of M appear to be 'electron masses'\n",
    "    # Unsure of units for k, spring coupling constant\n",
    "    k=(v^2-w^2)\n",
    "    M=(v^2-w^2)/w^2\n",
    "    @printf(\" M=%f k=%f\\t\",M,k)\n",
    "    \n",
    "    append!(ks,k)\n",
    "    append!(Ms,M)\n",
    "    \n",
    "    # F(v,w,β,α)=-(A(v,w,β)+B(v,w,β,α)+C(v,w,β)) #(62a) - Hellwarth 1999\n",
    "    @printf(\"\\n Polaron Es: A= %f B= %f C= %f F= %f\",A(v,w,βred),B(v,w,βred,α),C(v,w,βred),F(v,w,βred,α))\n",
    "    append!(As,A(v,w,βred))\n",
    "    append!(Bs,B(v,w,βred,α))\n",
    "    append!(Cs,C(v,w,βred))\n",
    "    append!(Fs,F(v,w,βred,α))\n",
    "    \n",
    "\n",
    "    \n",
    "    #[1.60] in Devereese, page 36; 6th Edition of Frohlich polaron notes\n",
    "    # I believe here β is in SI (expanded) units\n",
    "    μ=(w/v)^3 * (3*q)/(4*mb*ħ*ω^2*α*β) * exp(ħ*ω*β) * exp((v^2-w^2)/(w^2*v))\n",
    "    @printf(\"\\n\\tμ(FHIP)= %f m^2/Vs \\t= %.2f cm^2/Vs\",μ,μ*100^2)\n",
    "    append!(Ts,T)\n",
    "    append!(FHIPμs,μ*100^2)\n",
    "    \n",
    "    #[1.61] - Kadanoff's Boltzmann eqn derived mob\n",
    "    μ=(w/v)^3 * (q)/(2*mb*ω*α) * exp(ħ*ω*β) * exp((v^2-w^2)/(w^2*v))\n",
    "    @printf(\"\\n\\tμ(Kadanoff)= %f m^2/Vs \\t= %.2f cm^2/Vs\",μ,μ*100^2)    \n",
    "\n",
    "    append!(Kμs,μ*100^2)\n",
    "    \n",
    "    #Hellwarth1999 Eqn (2) and (1) - Unclear where from (just references FHIP), contains factors of βred\n",
    "    R=(v^2-w^2)/(w^2*v) # inline, page 300 just after Eqn (2)\n",
    "    #b=R*βred/sinh(b*βred*v/2) # this self-references b! what the hell?\n",
    "    # Oops - it's a typo from Feynman1962!\n",
    "    b=R*βred/sinh(βred*v/2) # Feynman1962 version; page 1010, Eqn (47b)\n",
    "    #b=0 # Hellwarth1999/Baggio1997 \"Setting b=0 makes less than 0.1% error\"\n",
    "    a=sqrt( (βred/2)^2 + R*βred*coth(βred*v/2))\n",
    "    k(u,a,b,v) = (u^2+a^2-b*cos(v*u))^(-3/2)*cos(u) # integrand in (2)\n",
    "    K=quadgk(u->k(u,a,b,v),0,Inf)[1] # numerical quadrature integration of (2)\n",
    "    \n",
    "    #Right-hand-side of Eqn 1 in Hellwarth 1999 // Eqn (4) in Baggio1997\n",
    "    RHS= α/(3*sqrt(π)) * βred^(5/2) / sinh(βred/2) * (v^3/w^3) * K\n",
    "    μ=RHS^-1 * (q)/(ω*mb)\n",
    "    @printf(\"\\n\\tμ(Hellwarth1999)= %f m^2/Vs \\t= %.2f cm^2/Vs\",μ,μ*100^2)    \n",
    "    append!(Hμs,μ*100^2)\n",
    "    \n",
    "    #Hellwarth1999 b=0\n",
    "    R=(v^2-w^2)/(w^2*v) # inline, page 300 just after Eqn (2)\n",
    "    b=0 # Hellwarth1999/Baggio1997 \"Setting b=0 makes less than 0.1% error\"\n",
    "    a=sqrt( (βred/2)^2 + R*βred*coth(βred*v/2))\n",
    "    k(u,a,b,v) = (u^2+a^2-b*cos(v*u))^(-3/2)*cos(u) # integrand in (2)\n",
    "    K=quadgk(u->k(u,a,b,v),0,Inf)[1] # numerical quadrature integration of (2)\n",
    "\n",
    "    #Right-hand-side of Eqn 1 in Hellwarth 1999 // Eqn (4) in Baggio1997\n",
    "    RHS= α/(3*sqrt(π)) * βred^(5/2) / sinh(βred/2) * (v^3/w^3) * K\n",
    "    μ=RHS^-1 * (q)/(ω*mb)\n",
    "    @printf(\"\\n\\tμ(Hellwarth1999,b=0)= %f m^2/Vs \\t= %.2f cm^2/Vs\",μ,μ*100^2)    \n",
    "    #append!(Hμs,μ*100^2)\n",
    "    \n",
    "    \n",
    "    @printf(\"\\n\\n\")\n",
    "    \n",
    "    # Recycle previous results as next guess\n",
    "    initial=[v,w] # Caution! Might cause weird sticking in local minima\n",
    "end"
   ]
  },
  {
   "cell_type": "code",
   "execution_count": null,
   "metadata": {
    "collapsed": false
   },
   "outputs": [],
   "source": [
    "using Plots\n",
    "default(size=(600,400))"
   ]
  },
  {
   "cell_type": "code",
   "execution_count": null,
   "metadata": {
    "collapsed": false
   },
   "outputs": [],
   "source": [
    "plot(Ts,Ms,label=\"Mass\",marker=2,xlab=\"Temperature (K)\",ylab=\"Mass of Phonon cloud (electron masses)\",ylim=(0,1.2))\n",
    "#plot!([0],[0])\n",
    "#plot!(Ts,ks,label=\"Spring Consts\",marker=2)"
   ]
  },
  {
   "cell_type": "code",
   "execution_count": null,
   "metadata": {
    "collapsed": false
   },
   "outputs": [],
   "source": [
    "plot(Ts,ks,label=\"Spring Consts\",marker=2, xlab=\"Temperature (K)\",ylab=\"Some internal spring const\",)\n",
    "plot!([0],[0])\n"
   ]
  },
  {
   "cell_type": "code",
   "execution_count": null,
   "metadata": {
    "collapsed": false
   },
   "outputs": [],
   "source": [
    "plot(Ts,As,label=\"A\",marker=2, xlab=\"Temperature (K)\",ylab=\"Energy ?\")\n",
    "plot!(Ts,Bs,label=\"B\",marker=2)\n",
    "plot!(Ts,Cs,label=\"C\",marker=2)\n",
    "#plot!(Ts,Fs,label=\"F\",marker=2)\n",
    "\n",
    "\n",
    "plot!([0],[0])\n"
   ]
  },
  {
   "cell_type": "code",
   "execution_count": null,
   "metadata": {
    "collapsed": false
   },
   "outputs": [],
   "source": [
    "using Plots\n",
    "\n",
    "default(size=(600,400))\n",
    "plot(Ts,Kμs,label=\"Kadanoff Polaron mobility\",marker=2,xlab=\"Temperature (K)\",ylab=\"Mobility (cm^2/Vs)\",ylims=(0,1000))\n",
    "plot!(Ts,FHIPμs,label=\"FHIP\",marker=2)\n",
    "plot!(Ts,Hμs,label=\"Hellwarth1999\",marker=2)\n",
    "#plot!([0],[0])\n"
   ]
  },
  {
   "cell_type": "code",
   "execution_count": null,
   "metadata": {
    "collapsed": false
   },
   "outputs": [],
   "source": [
    "# Milot/Herz 2015 Time-Resolved-Microwave-Conductivity mobilities\n",
    "# Data from table in SI of: DOI: 10.1002/adfm.201502340\n",
    "# Absolute values possibly dodge due to unknown yield of charge carriers; but hopefully trend A.OK!\n",
    "Milot= [\n",
    "8 184\n",
    "40 321\n",
    "80 143\n",
    "120 62\n",
    "140 40\n",
    "160 52\n",
    "180 44\n",
    "205 41\n",
    "230 39\n",
    "265 26\n",
    "295 35\n",
    "310 24\n",
    "320 24\n",
    "330 19\n",
    "340 16\n",
    "355 15 \n",
    "]\n",
    "\n",
    "# IV estimated mobilities (?!) from large single crystals, assumed ambient T\n",
    "# Nature Communications 6, Article number: 7586 (2015)\n",
    "# doi:10.1038/ncomms8586\n",
    "Saidaminov = \n",
    "[ 300 67.2 ]\n",
    "\n",
    "\n",
    "#Semonin2016,\n",
    "#  doi = {10.1021/acs.jpclett.6b01308},\n",
    "Semonin = \n",
    "[ 300 115 ] # +- 15 cm^2/Vs, holes+electrons"
   ]
  },
  {
   "cell_type": "code",
   "execution_count": null,
   "metadata": {
    "collapsed": false
   },
   "outputs": [],
   "source": [
    "#default(size=(1200,800))\n",
    "\n",
    "plot(Milot[:,1],Milot[:,2],label=\"Milot T-dep TRMC Polycrystal\",\n",
    "xlab=\"Temperature (K)\",ylab=\"Mobility (cm^2/Vs)\",marker=2, ylims=(0,400) )\n",
    "plot!(Saidaminov[:,1],Saidaminov[:,2],label=\"Saidaminov JV Single Crystal\", marker=6)\n",
    "plot!(Semonin[:,1],Semonin[:,2],label=\"Semonin Single Crystal TRMC\", marker=6)\n",
    "plot!(Ts,Kμs,label=\"Kadanoff Polaron mobility\",marker=2)\n",
    "plot!(Ts,Hμs,label=\"Hellwarth1999 Polaron mobility\",marker=2)\n",
    "#plot!([0],[0])"
   ]
  },
  {
   "cell_type": "code",
   "execution_count": null,
   "metadata": {
    "collapsed": false
   },
   "outputs": [],
   "source": [
    "plot!(yscale=(:log))"
   ]
  },
  {
   "cell_type": "code",
   "execution_count": null,
   "metadata": {
    "collapsed": true
   },
   "outputs": [],
   "source": [
    "default(size=(1200,800))"
   ]
  },
  {
   "cell_type": "code",
   "execution_count": null,
   "metadata": {
    "collapsed": false
   },
   "outputs": [],
   "source": [
    "# OK, now Ref 9 in  Hellwarth 1999 -\n",
    "# Schultz Physical Review Volume 116, Number 3, Nov 1959\n",
    "# Slow Electrons in Polar Crystals: Self-Energy,  Mass,  and Mobility\n",
    "\n",
    "const MassElectron = 9.10938188e-31;                          # kg\n",
    "\n",
    "# 300 K fit from above\n",
    "v=19.83 \n",
    "w= 16.93\n",
    "\n",
    "# Guess at What Hellwarth 1999 used: \n",
    "#  \"Using these values we estimate a room-temperature polaron radius of approx 0.6 nm for BiSiO\"\n",
    "# So they're using an omega=500 cm^-1 = 62 meV, so βred=2.5\n",
    "# Not sure what alpha they are using; (43) gives it in terms of phonon energies + reduced masses\n",
    "# Best guess for now - alpha=3, βred=2.5, so from Table III\n",
    "v=4.10 \n",
    "w=2.55\n",
    "\n",
    "m=1.0 #MassElectron\n",
    "# Eqn (2.4), Shultz1959\n",
    "μ=m*(v^2-w^2)/v^2\n",
    "println(\"Reduced mass: $μ\")\n",
    "rf=(3/2*μ*v)^(1/2)\n",
    "println(\"Feynman Polaron Radius: $rf , electron-mass unit\")\n",
    "println(\"Assuming Bohr, that's \",rf*5.2918e-11,\" m\")\n",
    "rf=(3/2*μ*v*MassElectron)^(1/2)\n",
    "println(\"Feynman Polaron Radius: $rf, SI\")\n",
    "\n",
    "\n",
    "# Units?!? Bohr?\n"
   ]
  },
  {
   "cell_type": "code",
   "execution_count": null,
   "metadata": {
    "collapsed": false
   },
   "outputs": [],
   "source": [
    "# ((freq THz)) ((IR Activity / e^2 amu^-1))\n",
    "# These data from MAPbI3-Cubic_PeakTable.csv\n",
    "# https://github.com/WMD-group/Phonons/tree/master/2015_MAPbI3/SimulatedSpectra\n",
    "# Data published in Brivio2015 (PRB)\n",
    "# https://doi.org/10.1103/PhysRevB.92.144308\n",
    "MAPI= [\n",
    "96.20813558773261 0.4996300522819191\n",
    "93.13630357703363 1.7139631746083817\n",
    "92.87834578121567 0.60108592692181\n",
    "92.4847918585963 0.0058228799414729\n",
    "92.26701437594754 0.100590086574602\n",
    "89.43972834606603 0.006278895133832249\n",
    "46.89209141511332 0.2460894564364346\n",
    "46.420949316788 0.14174282581124137\n",
    "44.0380222871706 0.1987196948553428\n",
    "42.89702947649343 0.011159939465770681\n",
    "42.67180170168193 0.02557751102757614\n",
    "41.46971205834201 0.012555230726601503\n",
    "37.08982543385215 0.00107488277468418\n",
    "36.53555265689563 0.02126940080871224\n",
    "30.20608114002676 0.009019481779712388\n",
    "27.374810898415028 0.03994453721421388\n",
    "26.363055017011728 0.05011922682554448\n",
    "9.522966890022039 0.00075631870522737\n",
    "4.016471586720514 0.08168931020200264\n",
    "3.887605410774121 0.006311654262282101\n",
    "3.5313112232401513 0.05353548710183397\n",
    "2.755392921480459 0.021303020776321225\n",
    "2.4380741812443247 0.23162784335484837\n",
    "2.2490917637719408 0.2622203718355982\n",
    "2.079632190634424 0.23382298607799906\n",
    "2.0336707697261187 0.0623239656843172\n",
    "1.5673011873879714 0.0367465760261409\n",
    "1.0188379384951798 0.0126328938653956\n",
    "1.0022960504442775 0.006817361620021601\n",
    "0.9970130778462072 0.0103757951973341\n",
    "0.9201781906386209 0.01095811116040592\n",
    "0.800604081794174 0.0016830270365341532\n",
    "0.5738689505255512 0.00646428491253749\n",
    "#0.022939578929507105 8.355742795827834e-05   # Acoustic modes!\n",
    "#0.04882611767873102 8.309858592685e-06\n",
    "#0.07575149723846182 2.778248540373041e-05\n",
    "]\n",
    "\n",
    "# Change to SI, but not actually needed as units cancel everywhere\n",
    "\n",
    "#MAPI_SI = [ MAPI_orig[:,1].*10^12*2*π MAPI_orig[:,2].*1 ]\n",
    "\n",
    "# OK, black magic here - perhaps our units of oscillator strength are not what we need? maybe already effectively 'squared'?\n",
    "#MAPI = [ MAPI[:,1] MAPI[:,2].^0.5]\n",
    "\n",
    "MAPI_low=MAPI[19:33,:] # Just inorganic components, everything below 10THz; modes 3-18"
   ]
  },
  {
   "cell_type": "code",
   "execution_count": null,
   "metadata": {
    "collapsed": false
   },
   "outputs": [],
   "source": [
    "# Hellwarth Table II - BiSiO frequencies\n",
    "HellwarthII = [\n",
    "    106.23 8.86\n",
    "    160.51 9.50\n",
    "    180.33 20.85\n",
    "    206.69 10.05\n",
    "    252.76 27.00\n",
    "    369.64 61.78\n",
    "    501.71 52.87\n",
    "    553.60 86.18\n",
    "    585.36 75.41\n",
    "    607.29 98.15\n",
    "    834.53 89.36\n",
    "]"
   ]
  },
  {
   "cell_type": "code",
   "execution_count": null,
   "metadata": {
    "collapsed": false
   },
   "outputs": [],
   "source": [
    "# Most simple scheme\n",
    "# Hellwarth (58), assuming further typo on LHS, actually should be W_e\n",
    "function HellwarthBscheme(LO)\n",
    "    H58 = sum( (LO[:,2].^2)./ LO[:,1].^2 )\n",
    "    println(\"Hellwarth (58) summation: \",H58)\n",
    "\n",
    "    H59 = sum( LO[:,2].^2 ) # sum of total ir activity squarred\n",
    "    println(\"Hellwarth (59) summation (total ir activity ^2): \", H59)\n",
    "    println(\"Hellwarth (59) W_e (total ir activity ): \", sqrt(H59))\n",
    "\n",
    "\n",
    "    omega = sqrt(H59 / H58)\n",
    "    println(\"Hellwarth (61) Omega (freq): \",omega)\n",
    "end\n",
    "\n",
    "HellwarthBscheme(HellwarthII)\n",
    "println(\" should agree with values given in Hellwarth(60) W_e=196.9 cm^-1 and Hellwarth(61) Ω_e=500 cm^-1\")\n",
    "println(\"\\t MAPI: (all values)\")\n",
    "HellwarthBscheme(MAPI)\n",
    "println(\"\\t MAPI: (low-frequency, non molecular IR)\")\n",
    "HellwarthBscheme(MAPI_low)"
   ]
  },
  {
   "cell_type": "code",
   "execution_count": null,
   "metadata": {
    "collapsed": false
   },
   "outputs": [],
   "source": [
    "# Check this though, take the low-freq components and:\n",
    "MAPI_low=[\n",
    "9.522966890022039 0.00075631870522737\n",
    "4.016471586720514 0.08168931020200264\n",
    "3.887605410774121 0.006311654262282101\n",
    "3.5313112232401513 0.05353548710183397\n",
    "2.755392921480459 0.021303020776321225\n",
    "2.4380741812443247 0.23162784335484837\n",
    "2.2490917637719408 0.2622203718355982\n",
    "2.079632190634424 0.23382298607799906\n",
    "2.0336707697261187 0.0623239656843172\n",
    "1.5673011873879714 0.0367465760261409\n",
    "1.0188379384951798 0.0126328938653956\n",
    "1.0022960504442775 0.006817361620021601\n",
    "0.9970130778462072 0.0103757951973341\n",
    "0.9201781906386209 0.01095811116040592\n",
    "0.800604081794174 0.0016830270365341532\n",
    "0.5738689505255512 0.00646428491253749\n",
    "#0.022939578929507105 8.355742795827834e-05\n",
    "#0.04882611767873102 8.309858592685e-06\n",
    "#0.07575149723846182 2.778248540373041e-05\n",
    "]\n",
    "H58 = sum( (MAPI_low[:,2].^2)./ MAPI_low[:,1].^2 )\n",
    "println(\"Hellwarth (58) summation: \",H58)\n",
    "\n",
    "H59 = sum( MAPI_low[:,2].^2 ) # sum of total ir activity squarred\n",
    "println(\"Hellwarth (59) summation (total ir activity ^2): \", H59)\n",
    "\n",
    "omega = sqrt(H59 / H58)\n",
    "println(\"Hellwarth (61) Omega (Thz): \",omega)\n",
    "\n",
    "# That feels like it should be the right answer... for whatever reason the Hellwarth \n",
    "# prescription isn't cancelling out the high-frequency components as you would expect \n",
    "# it to from an integration across the Lorentz oscillators"
   ]
  },
  {
   "cell_type": "code",
   "execution_count": null,
   "metadata": {
    "collapsed": false
   },
   "outputs": [],
   "source": []
  },
  {
   "cell_type": "code",
   "execution_count": null,
   "metadata": {
    "collapsed": false
   },
   "outputs": [],
   "source": [
    "# More complex scheme, involving thermodynamic Beta\n",
    "# Hellwarth(50), RHS\n",
    "const hbar = const ħ = 1.05457162825e-34;          # kg m2 / s \n",
    "const eV = const q = const ElectronVolt = 1.602176487e-19;                         # kg m2 / s2 \n",
    "const me=MassElectron = 9.10938188e-31;                          # kg\n",
    "const Boltzmann = const kB =  1.3806504e-23;                  # kg m2 / K s2 \n",
    "\n",
    "function HellwarthAscheme(LO,T=295)\n",
    "    \n",
    "    β=LO[:,1].*2*pi*1E12*ħ/(kB*T) #assuming units of THz\n",
    "    H50 = sum( ((LO[:,2].^2).*coth(β))./LO[:,1] )\n",
    "    println(\"Hellwarth (50) summation: \",H50)\n",
    "\n",
    "    H51= sum( LO[:,2].^2 ) # sum of total ir activity squarred\n",
    "    println(\"Hellwarth (51) summation (total ir activity ^2): \", H51)\n",
    "    println(\"Hellwarth (51) W_e (total ir activity ): \", sqrt(H51))\n",
    "\n",
    "    # OK; so this is deriving Omega / coth(Beta/2)\n",
    "    omegacoth=H51/H50\n",
    "    println(\"omegacoth: \",omegacoth)\n",
    "\n",
    "    # NOT FINISHED - need to somehow decouple Omega from both sides of the eqn. \n",
    "    for freq in 0.25:0.25:20\n",
    "        pseudo_omega=omegacoth*coth(freq * 2*pi*1E12*ħ/(2*kB*T))\n",
    "        println(\"freq: $freq pseudo-omega: $pseudo_omega\")\n",
    "    end\n",
    "end\n",
    "\n",
    "HellwarthAscheme(HellwarthII)\n",
    "HellwarthAscheme( [HellwarthII[:,1].*0.02998 HellwarthII[:,2]] ) # convert data to Thz\n",
    "println(\" should agree with values given in Hellwarth\\n TableII: H50sum= 91.34 cm^-1, \\n W_e=196.9 cm^-1 and Hellwarth(53) Ω_e=504 cm^-1\")\n",
    "\n",
    "println(\"\\t MAPI: (all values)\")\n",
    "HellwarthAscheme(MAPI)\n",
    "println(\"\\t MAPI: (low-frequency, non molecular IR)\")\n",
    "HellwarthAscheme(MAPI_low)"
   ]
  },
  {
   "cell_type": "code",
   "execution_count": null,
   "metadata": {
    "collapsed": false
   },
   "outputs": [],
   "source": [
    "# Comparison via Hellwarth (37)\n",
    "# MAPI  4.5, 24.1, 2.25THz - 75 cm^-1 ; α=\n",
    "ε_Inf=4.5\n",
    "ε_S=24.1\n",
    "\n",
    "(1/ε_Inf - 1/ε_S) #/(4*pi)\n",
    "\n",
    "# By Hellwarth (37) this should be equivalent to the summation Hellwarth(58) above"
   ]
  },
  {
   "cell_type": "code",
   "execution_count": null,
   "metadata": {
    "collapsed": false
   },
   "outputs": [],
   "source": [
    "# Hellwarth 44 defin. for alpha\n",
    "Ry=13.605693*q\n",
    "effectivemass=0.12\n",
    "α=(1/ε_Inf - 1/ε_S) * sqrt(effectivemass * Ry / (ħ*2.25E12*2*pi))"
   ]
  },
  {
   "cell_type": "code",
   "execution_count": null,
   "metadata": {
    "collapsed": false
   },
   "outputs": [],
   "source": [
    "# Integrate through Lorentz oscillators to get dielectric fn\n",
    "# Should give 'extra' contribution from these modes, extrapolated to zero omega\n",
    "function integrate_dielectric(LO,V0)\n",
    "    summate=sum( (LO[:,2])./(LO[:,1].^2) )\n",
    "    summate*4*π/V0\n",
    "end\n",
    "\n",
    "Å=1E-10 # angstrom in metres\n",
    "r=6.29Å # Sensible cubic cell size\n",
    "V0=(r)^3\n",
    "println(\"volume: $V0\")\n",
    "const amu=1.66054e-27\n",
    "const ε0=8.854187817E-12\n",
    "\n",
    "MAPI_SI = [ MAPI[:,1].*10^12*2*π MAPI[:,2]./(q^2/amu) ]\n",
    "\n",
    "println(\" MAPI: \",integrate_dielectric(MAPI,1.0))\n",
    "println(\" MAPI_low: \",integrate_dielectric(MAPI_low,1.0))\n",
    "println(\" MAPI_SI: \",integrate_dielectric(MAPI_SI,V0))\n",
    "println(\" MAPI_SI: fudged epislon0 \",integrate_dielectric(MAPI_SI,V0)*ε0/(4*π))\n",
    "println(\" MAPI_SI_low: fudged epislon0 \",integrate_dielectric(MAPI_SI[19:33,:],V0)*ε0/(4*π))\n",
    "\n",
    "\n",
    "println()\n",
    "println(\"From ε_S-ε_Inf, expect this to be: \",ε_S-ε_Inf)"
   ]
  },
  {
   "cell_type": "code",
   "execution_count": null,
   "metadata": {
    "collapsed": false
   },
   "outputs": [],
   "source": [
    "sum(MAPI[:,2]./MAPI[:,1].^2 )"
   ]
  },
  {
   "cell_type": "code",
   "execution_count": null,
   "metadata": {
    "collapsed": false
   },
   "outputs": [],
   "source": [
    "sum(MAPI_low[:,2]./MAPI_low[:,1].^2 )"
   ]
  },
  {
   "cell_type": "code",
   "execution_count": null,
   "metadata": {
    "collapsed": false
   },
   "outputs": [],
   "source": [
    "MAPI[:,2]"
   ]
  },
  {
   "cell_type": "code",
   "execution_count": null,
   "metadata": {
    "collapsed": false
   },
   "outputs": [],
   "source": [
    "MAPI[:,1].^2"
   ]
  },
  {
   "cell_type": "code",
   "execution_count": null,
   "metadata": {
    "collapsed": false
   },
   "outputs": [],
   "source": [
    "MAPI[:,2]./MAPI[:,1].^2"
   ]
  },
  {
   "cell_type": "code",
   "execution_count": null,
   "metadata": {
    "collapsed": true
   },
   "outputs": [],
   "source": []
  }
 ],
 "metadata": {
  "anaconda-cloud": {},
  "kernelspec": {
   "display_name": "Julia 0.5.0",
   "language": "julia",
   "name": "julia-0.5"
  },
  "language_info": {
   "file_extension": ".jl",
   "mimetype": "application/julia",
   "name": "julia",
   "version": "0.5.0"
  }
 },
 "nbformat": 4,
 "nbformat_minor": 1
}
